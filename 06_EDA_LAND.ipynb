{
 "cells": [
  {
   "cell_type": "markdown",
   "metadata": {},
   "source": [
    "# 부동산 데이터 탐색\n",
    "* 토지"
   ]
  },
  {
   "cell_type": "code",
   "execution_count": 84,
   "metadata": {},
   "outputs": [
    {
     "data": {
      "text/plain": [
       "'\\n1. 데이터 불러오기\\n2. 데이터 타입 정리\\n3. Na 값 정리\\n#지도학습 1) 가격맞추기 2)분류하기 (y=use)\\n#비지도학습 1) 위치 좌표 나타내기 2) 군집화 \\n'"
      ]
     },
     "execution_count": 84,
     "metadata": {},
     "output_type": "execute_result"
    }
   ],
   "source": [
    "'''\n",
    "1. 데이터 불러오기\n",
    "2. 데이터 타입 정리\n",
    "3. Na 값 정리\n",
    "#지도학습 1) 가격맞추기 2)분류하기 (y=use)\n",
    "#비지도학습 1) 위치 좌표 나타내기 2) 군집화 \n",
    "'''"
   ]
  },
  {
   "cell_type": "code",
   "execution_count": 44,
   "metadata": {},
   "outputs": [],
   "source": [
    "import numpy as np\n",
    "import pandas as pd\n",
    "import os\n",
    "import glob\n",
    "import plotly"
   ]
  },
  {
   "cell_type": "code",
   "execution_count": 45,
   "metadata": {},
   "outputs": [],
   "source": [
    "path=\"Dataset/LAND\"\n",
    "allFiles = glob.glob(os.path.join(path,\"*.csv\"))"
   ]
  },
  {
   "cell_type": "code",
   "execution_count": 46,
   "metadata": {},
   "outputs": [
    {
     "data": {
      "text/plain": [
       "['Dataset/LAND\\\\토지(매매)-실거래가-201809.csv',\n",
       " 'Dataset/LAND\\\\토지(매매)_실거래가-201512.csv',\n",
       " 'Dataset/LAND\\\\토지(매매)_실거래가-201601.csv',\n",
       " 'Dataset/LAND\\\\토지(매매)_실거래가-201602.csv',\n",
       " 'Dataset/LAND\\\\토지(매매)_실거래가-201603.csv',\n",
       " 'Dataset/LAND\\\\토지(매매)_실거래가-201604.csv',\n",
       " 'Dataset/LAND\\\\토지(매매)_실거래가-201605.csv',\n",
       " 'Dataset/LAND\\\\토지(매매)_실거래가-201606.csv',\n",
       " 'Dataset/LAND\\\\토지(매매)_실거래가-201607.csv',\n",
       " 'Dataset/LAND\\\\토지(매매)_실거래가-201608.csv',\n",
       " 'Dataset/LAND\\\\토지(매매)_실거래가-201609.csv',\n",
       " 'Dataset/LAND\\\\토지(매매)_실거래가-201610.csv',\n",
       " 'Dataset/LAND\\\\토지(매매)_실거래가-201611.csv',\n",
       " 'Dataset/LAND\\\\토지(매매)_실거래가-201612.csv',\n",
       " 'Dataset/LAND\\\\토지(매매)_실거래가-201701.csv',\n",
       " 'Dataset/LAND\\\\토지(매매)_실거래가-201702.csv',\n",
       " 'Dataset/LAND\\\\토지(매매)_실거래가-201703.csv',\n",
       " 'Dataset/LAND\\\\토지(매매)_실거래가-201704.csv',\n",
       " 'Dataset/LAND\\\\토지(매매)_실거래가-201705.csv',\n",
       " 'Dataset/LAND\\\\토지(매매)_실거래가-201706.csv',\n",
       " 'Dataset/LAND\\\\토지(매매)_실거래가-201707.csv',\n",
       " 'Dataset/LAND\\\\토지(매매)_실거래가-201708.csv',\n",
       " 'Dataset/LAND\\\\토지(매매)_실거래가-201709.csv',\n",
       " 'Dataset/LAND\\\\토지(매매)_실거래가-201710.csv',\n",
       " 'Dataset/LAND\\\\토지(매매)_실거래가-201711.csv',\n",
       " 'Dataset/LAND\\\\토지(매매)_실거래가-201712.csv',\n",
       " 'Dataset/LAND\\\\토지(매매)_실거래가-201801.csv',\n",
       " 'Dataset/LAND\\\\토지(매매)_실거래가-201802.csv',\n",
       " 'Dataset/LAND\\\\토지(매매)_실거래가-201803.csv',\n",
       " 'Dataset/LAND\\\\토지(매매)_실거래가-201804.csv',\n",
       " 'Dataset/LAND\\\\토지(매매)_실거래가-201805.csv',\n",
       " 'Dataset/LAND\\\\토지(매매)_실거래가-201806.csv',\n",
       " 'Dataset/LAND\\\\토지(매매)_실거래가-201807.csv',\n",
       " 'Dataset/LAND\\\\토지(매매)_실거래가-201808.csv']"
      ]
     },
     "execution_count": 46,
     "metadata": {},
     "output_type": "execute_result"
    }
   ],
   "source": [
    "allFiles"
   ]
  },
  {
   "cell_type": "code",
   "execution_count": 47,
   "metadata": {},
   "outputs": [
    {
     "name": "stderr",
     "output_type": "stream",
     "text": [
      "C:\\Anaconda3\\envs\\public_data_eda\\lib\\site-packages\\ipykernel_launcher.py:4: FutureWarning:\n",
      "\n",
      "Method .as_matrix will be removed in a future version. Use .values instead.\n",
      "\n"
     ]
    }
   ],
   "source": [
    "np_array_list = []\n",
    "for file_ in allFiles:\n",
    "    df=pd.read_csv(file_,index_col=None,skiprows=14,engine='python')\n",
    "    np_array_list.append(df.as_matrix())\n",
    "\n",
    "comb_np_array = np.vstack(np_array_list)\n",
    "dataset = pd.DataFrame(comb_np_array)\n",
    "dataset.columns = df.columns"
   ]
  },
  {
   "cell_type": "code",
   "execution_count": 48,
   "metadata": {},
   "outputs": [
    {
     "data": {
      "text/plain": [
       "Index(['시군구', '번지', '지목', '용도지역', '도로조건', '계약년월', '계약일', '계약면적(㎡)', '거래금액(만원)',\n",
       "       '지분구분'],\n",
       "      dtype='object')"
      ]
     },
     "execution_count": 48,
     "metadata": {},
     "output_type": "execute_result"
    }
   ],
   "source": [
    "dataset.columns"
   ]
  },
  {
   "cell_type": "code",
   "execution_count": 49,
   "metadata": {},
   "outputs": [],
   "source": [
    "dataset.columns = [\"add_1\", \"add_2\", \"land_category\", \"use_district\", \n",
    "                   \"road_condition\", \"year_month\", \"day\", \"land_area\", \n",
    "                   \"price\", \"shares\"]"
   ]
  },
  {
   "cell_type": "code",
   "execution_count": 50,
   "metadata": {},
   "outputs": [
    {
     "data": {
      "text/plain": [
       "(1957190, 10)"
      ]
     },
     "execution_count": 50,
     "metadata": {},
     "output_type": "execute_result"
    }
   ],
   "source": [
    "dataset.shape #관측치:1,957,190, 항목: 10"
   ]
  },
  {
   "cell_type": "code",
   "execution_count": 51,
   "metadata": {},
   "outputs": [
    {
     "data": {
      "text/html": [
       "<div>\n",
       "<style scoped>\n",
       "    .dataframe tbody tr th:only-of-type {\n",
       "        vertical-align: middle;\n",
       "    }\n",
       "\n",
       "    .dataframe tbody tr th {\n",
       "        vertical-align: top;\n",
       "    }\n",
       "\n",
       "    .dataframe thead th {\n",
       "        text-align: right;\n",
       "    }\n",
       "</style>\n",
       "<table border=\"1\" class=\"dataframe\">\n",
       "  <thead>\n",
       "    <tr style=\"text-align: right;\">\n",
       "      <th></th>\n",
       "      <th>add_1</th>\n",
       "      <th>add_2</th>\n",
       "      <th>land_category</th>\n",
       "      <th>use_district</th>\n",
       "      <th>road_condition</th>\n",
       "      <th>year_month</th>\n",
       "      <th>day</th>\n",
       "      <th>land_area</th>\n",
       "      <th>price</th>\n",
       "      <th>shares</th>\n",
       "    </tr>\n",
       "  </thead>\n",
       "  <tbody>\n",
       "    <tr>\n",
       "      <th>0</th>\n",
       "      <td>전라남도 순천시 주암면 오산리</td>\n",
       "      <td>6**</td>\n",
       "      <td>대</td>\n",
       "      <td>계획관리지역</td>\n",
       "      <td>8m미만</td>\n",
       "      <td>201809</td>\n",
       "      <td>1~10</td>\n",
       "      <td>452</td>\n",
       "      <td>1,000</td>\n",
       "      <td></td>\n",
       "    </tr>\n",
       "    <tr>\n",
       "      <th>1</th>\n",
       "      <td>전라남도 고흥군 영남면 금사리</td>\n",
       "      <td>6*</td>\n",
       "      <td>임야</td>\n",
       "      <td>농림지역</td>\n",
       "      <td>-</td>\n",
       "      <td>201809</td>\n",
       "      <td>1~10</td>\n",
       "      <td>668</td>\n",
       "      <td>1,000</td>\n",
       "      <td></td>\n",
       "    </tr>\n",
       "    <tr>\n",
       "      <th>2</th>\n",
       "      <td>경기도 화성시 서신면 사곳리</td>\n",
       "      <td>5*</td>\n",
       "      <td>임야</td>\n",
       "      <td>계획관리지역</td>\n",
       "      <td>8m미만</td>\n",
       "      <td>201809</td>\n",
       "      <td>1~10</td>\n",
       "      <td>185</td>\n",
       "      <td>1,000</td>\n",
       "      <td></td>\n",
       "    </tr>\n",
       "    <tr>\n",
       "      <th>3</th>\n",
       "      <td>경상남도 하동군 북천면 사평리</td>\n",
       "      <td>4**</td>\n",
       "      <td>답</td>\n",
       "      <td>농림지역</td>\n",
       "      <td>8m미만</td>\n",
       "      <td>201809</td>\n",
       "      <td>1~10</td>\n",
       "      <td>456</td>\n",
       "      <td>1,000</td>\n",
       "      <td></td>\n",
       "    </tr>\n",
       "    <tr>\n",
       "      <th>4</th>\n",
       "      <td>경기도 양평군 서종면 문호리</td>\n",
       "      <td>4*</td>\n",
       "      <td>도로</td>\n",
       "      <td>계획관리지역</td>\n",
       "      <td>-</td>\n",
       "      <td>201809</td>\n",
       "      <td>1~10</td>\n",
       "      <td>32</td>\n",
       "      <td>1,000</td>\n",
       "      <td>지분</td>\n",
       "    </tr>\n",
       "  </tbody>\n",
       "</table>\n",
       "</div>"
      ],
      "text/plain": [
       "              add_1 add_2 land_category use_district road_condition  \\\n",
       "0  전라남도 순천시 주암면 오산리   6**             대       계획관리지역           8m미만   \n",
       "1  전라남도 고흥군 영남면 금사리    6*            임야         농림지역              -   \n",
       "2   경기도 화성시 서신면 사곳리    5*            임야       계획관리지역           8m미만   \n",
       "3  경상남도 하동군 북천면 사평리   4**             답         농림지역           8m미만   \n",
       "4   경기도 양평군 서종면 문호리    4*            도로       계획관리지역              -   \n",
       "\n",
       "  year_month   day land_area  price shares  \n",
       "0     201809  1~10       452  1,000         \n",
       "1     201809  1~10       668  1,000         \n",
       "2     201809  1~10       185  1,000         \n",
       "3     201809  1~10       456  1,000         \n",
       "4     201809  1~10        32  1,000     지분  "
      ]
     },
     "execution_count": 51,
     "metadata": {},
     "output_type": "execute_result"
    }
   ],
   "source": [
    "dataset.head()"
   ]
  },
  {
   "cell_type": "code",
   "execution_count": 52,
   "metadata": {},
   "outputs": [
    {
     "data": {
      "text/html": [
       "<div>\n",
       "<style scoped>\n",
       "    .dataframe tbody tr th:only-of-type {\n",
       "        vertical-align: middle;\n",
       "    }\n",
       "\n",
       "    .dataframe tbody tr th {\n",
       "        vertical-align: top;\n",
       "    }\n",
       "\n",
       "    .dataframe thead th {\n",
       "        text-align: right;\n",
       "    }\n",
       "</style>\n",
       "<table border=\"1\" class=\"dataframe\">\n",
       "  <thead>\n",
       "    <tr style=\"text-align: right;\">\n",
       "      <th></th>\n",
       "      <th>add_1</th>\n",
       "      <th>add_2</th>\n",
       "      <th>land_category</th>\n",
       "      <th>use_district</th>\n",
       "      <th>road_condition</th>\n",
       "      <th>year_month</th>\n",
       "      <th>day</th>\n",
       "      <th>land_area</th>\n",
       "      <th>price</th>\n",
       "      <th>shares</th>\n",
       "    </tr>\n",
       "  </thead>\n",
       "  <tbody>\n",
       "    <tr>\n",
       "      <th>1957185</th>\n",
       "      <td>경기도 하남시 상산곡동</td>\n",
       "      <td>산3**</td>\n",
       "      <td>임야</td>\n",
       "      <td>개발제한구역</td>\n",
       "      <td>-</td>\n",
       "      <td>201808</td>\n",
       "      <td>21~31</td>\n",
       "      <td>93</td>\n",
       "      <td>986</td>\n",
       "      <td>지분</td>\n",
       "    </tr>\n",
       "    <tr>\n",
       "      <th>1957186</th>\n",
       "      <td>경상북도 상주시 외남면 흔평리</td>\n",
       "      <td>9**</td>\n",
       "      <td>답</td>\n",
       "      <td>생산관리지역</td>\n",
       "      <td>-</td>\n",
       "      <td>201808</td>\n",
       "      <td>21~31</td>\n",
       "      <td>1445</td>\n",
       "      <td>990</td>\n",
       "      <td></td>\n",
       "    </tr>\n",
       "    <tr>\n",
       "      <th>1957187</th>\n",
       "      <td>세종특별자치시 전의면 유천리</td>\n",
       "      <td>산9*</td>\n",
       "      <td>임야</td>\n",
       "      <td>농림지역</td>\n",
       "      <td>-</td>\n",
       "      <td>201808</td>\n",
       "      <td>21~31</td>\n",
       "      <td>330</td>\n",
       "      <td>990</td>\n",
       "      <td>지분</td>\n",
       "    </tr>\n",
       "    <tr>\n",
       "      <th>1957188</th>\n",
       "      <td>전라남도 장성군 삼계면 부성리</td>\n",
       "      <td>7**</td>\n",
       "      <td>잡종지</td>\n",
       "      <td>생산관리지역</td>\n",
       "      <td>-</td>\n",
       "      <td>201808</td>\n",
       "      <td>21~31</td>\n",
       "      <td>464</td>\n",
       "      <td>995</td>\n",
       "      <td></td>\n",
       "    </tr>\n",
       "    <tr>\n",
       "      <th>1957189</th>\n",
       "      <td>경상북도 의성군 신평면 덕봉리</td>\n",
       "      <td>3*</td>\n",
       "      <td>답</td>\n",
       "      <td>농림지역</td>\n",
       "      <td>8m미만</td>\n",
       "      <td>201808</td>\n",
       "      <td>21~31</td>\n",
       "      <td>1098</td>\n",
       "      <td>998</td>\n",
       "      <td></td>\n",
       "    </tr>\n",
       "  </tbody>\n",
       "</table>\n",
       "</div>"
      ],
      "text/plain": [
       "                    add_1 add_2 land_category use_district road_condition  \\\n",
       "1957185      경기도 하남시 상산곡동  산3**            임야       개발제한구역              -   \n",
       "1957186  경상북도 상주시 외남면 흔평리   9**             답       생산관리지역              -   \n",
       "1957187   세종특별자치시 전의면 유천리   산9*            임야         농림지역              -   \n",
       "1957188  전라남도 장성군 삼계면 부성리   7**           잡종지       생산관리지역              -   \n",
       "1957189  경상북도 의성군 신평면 덕봉리    3*             답         농림지역           8m미만   \n",
       "\n",
       "        year_month    day land_area price shares  \n",
       "1957185     201808  21~31        93   986     지분  \n",
       "1957186     201808  21~31      1445   990         \n",
       "1957187     201808  21~31       330   990     지분  \n",
       "1957188     201808  21~31       464   995         \n",
       "1957189     201808  21~31      1098   998         "
      ]
     },
     "execution_count": 52,
     "metadata": {},
     "output_type": "execute_result"
    }
   ],
   "source": [
    "dataset.tail()"
   ]
  },
  {
   "cell_type": "code",
   "execution_count": 53,
   "metadata": {},
   "outputs": [
    {
     "name": "stdout",
     "output_type": "stream",
     "text": [
      "<class 'pandas.core.frame.DataFrame'>\n",
      "RangeIndex: 1957190 entries, 0 to 1957189\n",
      "Data columns (total 10 columns):\n",
      "add_1             object\n",
      "add_2             object\n",
      "land_category     object\n",
      "use_district      object\n",
      "road_condition    object\n",
      "year_month        object\n",
      "day               object\n",
      "land_area         object\n",
      "price             object\n",
      "shares            object\n",
      "dtypes: object(10)\n",
      "memory usage: 149.3+ MB\n"
     ]
    }
   ],
   "source": [
    "dataset.info()"
   ]
  },
  {
   "cell_type": "code",
   "execution_count": 54,
   "metadata": {},
   "outputs": [
    {
     "name": "stdout",
     "output_type": "stream",
     "text": [
      "count    1.957190e+06\n",
      "mean     1.207642e+04\n",
      "std      1.640032e+05\n",
      "min      1.000000e+00\n",
      "25%      9.000000e+02\n",
      "50%      3.000000e+03\n",
      "75%      9.000000e+03\n",
      "max      1.055200e+08\n",
      "Name: price, dtype: float64\n"
     ]
    }
   ],
   "source": [
    "#Edit price datatype\n",
    "dataset['price']=dataset['price'].str.replace(\",\",\"\").astype('int64')\n",
    "print(dataset['price'].describe())"
   ]
  },
  {
   "cell_type": "code",
   "execution_count": 55,
   "metadata": {},
   "outputs": [
    {
     "name": "stdout",
     "output_type": "stream",
     "text": [
      "count    1.957190e+06\n",
      "mean     1.667966e+03\n",
      "std      1.109553e+04\n",
      "min      1.000000e+00\n",
      "25%      1.140000e+02\n",
      "50%      4.330000e+02\n",
      "75%      1.279000e+03\n",
      "max      4.108269e+06\n",
      "Name: land_area, dtype: float64\n"
     ]
    }
   ],
   "source": [
    "#Edit land_area datatype\n",
    "dataset['land_area']=dataset['land_area'].astype('int64')\n",
    "print(dataset['land_area'].describe())"
   ]
  },
  {
   "cell_type": "code",
   "execution_count": 56,
   "metadata": {},
   "outputs": [
    {
     "data": {
      "text/plain": [
       "11~20    644181\n",
       "1~10     629000\n",
       "21~31    417212\n",
       "21~30    214148\n",
       "21~28     34830\n",
       "21~29     17819\n",
       "Name: day, dtype: int64"
      ]
     },
     "execution_count": 56,
     "metadata": {},
     "output_type": "execute_result"
    }
   ],
   "source": [
    "#Edit day datatpye\n",
    "dataset['day'].value_counts()\n",
    "#644181+629000+417212+214148+34830+17819=1957190"
   ]
  },
  {
   "cell_type": "code",
   "execution_count": 57,
   "metadata": {},
   "outputs": [],
   "source": [
    "''' \n",
    "Change type 'contractD' as categorical type --> 월별로 범위가 달라서 categorical 형태를 무리\n",
    "--> '1~10':1,'11~20':2,'21~30':3,'21~28':3,'21~31':3,'21~29':3로 형태 바꾸기\n",
    "'''\n",
    "d = {'1~10':1,'11~20':2,'21~30':3,'21~28':3,'21~31':3,'21~29':3}\n",
    "dataset['day'] = dataset['day'].replace(d)"
   ]
  },
  {
   "cell_type": "code",
   "execution_count": 58,
   "metadata": {},
   "outputs": [
    {
     "name": "stdout",
     "output_type": "stream",
     "text": [
      "3    684009\n",
      "2    644181\n",
      "1    629000\n",
      "Name: day, dtype: int64\n",
      "count    1.957190e+06\n",
      "mean     2.028106e+00\n",
      "std      8.185809e-01\n",
      "min      1.000000e+00\n",
      "25%      1.000000e+00\n",
      "50%      2.000000e+00\n",
      "75%      3.000000e+00\n",
      "max      3.000000e+00\n",
      "Name: day, dtype: float64\n"
     ]
    }
   ],
   "source": [
    "print(dataset['day'].value_counts()) \n",
    "#684009+644181+629000=1957190\n",
    "dataset['day']=dataset['day']\n",
    "print(dataset['day'].describe())"
   ]
  },
  {
   "cell_type": "code",
   "execution_count": 59,
   "metadata": {},
   "outputs": [
    {
     "name": "stdout",
     "output_type": "stream",
     "text": [
      "[count    1.957190e+06\n",
      "mean     2.016890e+05\n",
      "std      8.298825e+01\n",
      "min      2.015120e+05\n",
      "25%      2.016080e+05\n",
      "50%      2.017040e+05\n",
      "75%      2.017120e+05\n",
      "max      2.018090e+05\n",
      "Name: year_month, dtype: float64]\n"
     ]
    }
   ],
   "source": [
    "#Edit Year_month type\n",
    "dataset['year_month']=dataset['year_month'].astype('int64')\n",
    "print([dataset['year_month'].describe()])"
   ]
  },
  {
   "cell_type": "code",
   "execution_count": 60,
   "metadata": {},
   "outputs": [
    {
     "data": {
      "text/plain": [
       "1    892469\n",
       "-    840523\n",
       "2    160732\n",
       "3     43021\n",
       "4     20434\n",
       "Name: road_condition, dtype: int64"
      ]
     },
     "execution_count": 60,
     "metadata": {},
     "output_type": "execute_result"
    }
   ],
   "source": [
    "#Edit Road_condition type\n",
    "\n",
    "c = {'8m미만':1,'12m미만':2,'25m미만':3,'25m이상':4}\n",
    "dataset['road_condition'] = dataset['road_condition'].replace(c)\n",
    "\n",
    "dataset['road_condition'].astype('category').value_counts()\n"
   ]
  },
  {
   "cell_type": "code",
   "execution_count": 65,
   "metadata": {},
   "outputs": [
    {
     "data": {
      "text/plain": [
       "답        555504\n",
       "전        480805\n",
       "임야       460280\n",
       "대        230375\n",
       "도로       119790\n",
       "잡종지       27474\n",
       "과수원       25102\n",
       "공장용지      11151\n",
       "목장용지       8241\n",
       "묘지         7157\n",
       "하천         5645\n",
       "구거         5431\n",
       "유지         3455\n",
       "염전         3341\n",
       "주차장        3277\n",
       "창고용지       2237\n",
       "공원         1433\n",
       "철도용지       1075\n",
       "학교용지        993\n",
       "양어장         873\n",
       "제방          858\n",
       "종교용지        708\n",
       "체육용지        659\n",
       "주유소용지       595\n",
       "유원지         466\n",
       "수도용지        239\n",
       "사적지          12\n",
       "광천지          12\n",
       "Name: land_category, dtype: int64"
      ]
     },
     "execution_count": 65,
     "metadata": {},
     "output_type": "execute_result"
    }
   ],
   "source": [
    "#land category\n",
    "dataset['land_category'].astype('category').value_counts()"
   ]
  },
  {
   "cell_type": "code",
   "execution_count": 61,
   "metadata": {},
   "outputs": [
    {
     "data": {
      "text/plain": [
       "계획관리지역       559736\n",
       "농림지역         335253\n",
       "자연녹지지역       239594\n",
       "생산관리지역       172762\n",
       "보전관리지역       158029\n",
       "제2종일반주거지역    111951\n",
       "제1종일반주거지역     99418\n",
       "개발제한구역        77291\n",
       "생산녹지지역        48267\n",
       "일반상업지역        27852\n",
       "보전녹지지역        26026\n",
       "자연환경보전        23470\n",
       "제3종일반주거지역     18723\n",
       "용도미지정         13561\n",
       "준주거지역         12884\n",
       "일반공업지역        11772\n",
       "준공업지역          7079\n",
       "제1종전용주거지역      4866\n",
       "제2종전용주거지역      2607\n",
       "관리지역           1796\n",
       "중심상업지역         1429\n",
       "근린상업지역         1319\n",
       "전용공업지역          430\n",
       "기타              388\n",
       "일반주거지역          316\n",
       "유통상업지역          262\n",
       "전용주거지역           95\n",
       "Name: use_district, dtype: int64"
      ]
     },
     "execution_count": 61,
     "metadata": {},
     "output_type": "execute_result"
    }
   ],
   "source": [
    "#Use district\n",
    "dataset['use_district'].astype('category').value_counts()"
   ]
  },
  {
   "cell_type": "code",
   "execution_count": 62,
   "metadata": {},
   "outputs": [
    {
     "data": {
      "text/plain": [
       "      1425506\n",
       "지분     531684\n",
       "Name: shares, dtype: int64"
      ]
     },
     "execution_count": 62,
     "metadata": {},
     "output_type": "execute_result"
    }
   ],
   "source": [
    "#Shares\n",
    "dataset['shares'].astype('category').value_counts()"
   ]
  },
  {
   "cell_type": "code",
   "execution_count": 63,
   "metadata": {},
   "outputs": [
    {
     "data": {
      "text/plain": [
       "      1425506\n",
       "지분     531684\n",
       "Name: shares, dtype: int64"
      ]
     },
     "execution_count": 63,
     "metadata": {},
     "output_type": "execute_result"
    }
   ],
   "source": [
    "#shares ...?\n",
    "dataset.loc[dataset['shares'].isnull(),'shares'] = 0.0\n",
    "dataset['shares'].astype('category').value_counts()"
   ]
  },
  {
   "cell_type": "code",
   "execution_count": 64,
   "metadata": {},
   "outputs": [
    {
     "name": "stdout",
     "output_type": "stream",
     "text": [
      "<class 'pandas.core.frame.DataFrame'>\n",
      "RangeIndex: 1957190 entries, 0 to 1957189\n",
      "Data columns (total 10 columns):\n",
      "add_1             object\n",
      "add_2             object\n",
      "land_category     object\n",
      "use_district      object\n",
      "road_condition    object\n",
      "year_month        int64\n",
      "day               int64\n",
      "land_area         int64\n",
      "price             int64\n",
      "shares            object\n",
      "dtypes: int64(4), object(6)\n",
      "memory usage: 149.3+ MB\n",
      "After Data type : \n",
      "None\n"
     ]
    }
   ],
   "source": [
    "#After Editing Data Type\n",
    "print(\"After Data type : \\n{}\".format(dataset.info()))"
   ]
  },
  {
   "cell_type": "code",
   "execution_count": 83,
   "metadata": {},
   "outputs": [
    {
     "data": {
      "text/html": [
       "<div>\n",
       "<style scoped>\n",
       "    .dataframe tbody tr th:only-of-type {\n",
       "        vertical-align: middle;\n",
       "    }\n",
       "\n",
       "    .dataframe tbody tr th {\n",
       "        vertical-align: top;\n",
       "    }\n",
       "\n",
       "    .dataframe thead th {\n",
       "        text-align: right;\n",
       "    }\n",
       "</style>\n",
       "<table border=\"1\" class=\"dataframe\">\n",
       "  <thead>\n",
       "    <tr style=\"text-align: right;\">\n",
       "      <th></th>\n",
       "      <th>year_month</th>\n",
       "      <th>day</th>\n",
       "      <th>land_area</th>\n",
       "      <th>price</th>\n",
       "    </tr>\n",
       "  </thead>\n",
       "  <tbody>\n",
       "    <tr>\n",
       "      <th>count</th>\n",
       "      <td>1.957155e+06</td>\n",
       "      <td>1.957155e+06</td>\n",
       "      <td>1.957155e+06</td>\n",
       "      <td>1.957155e+06</td>\n",
       "    </tr>\n",
       "    <tr>\n",
       "      <th>mean</th>\n",
       "      <td>2.016890e+05</td>\n",
       "      <td>2.028108e+00</td>\n",
       "      <td>1.667984e+03</td>\n",
       "      <td>1.207549e+04</td>\n",
       "    </tr>\n",
       "    <tr>\n",
       "      <th>std</th>\n",
       "      <td>8.298836e+01</td>\n",
       "      <td>8.185804e-01</td>\n",
       "      <td>1.109562e+04</td>\n",
       "      <td>1.640040e+05</td>\n",
       "    </tr>\n",
       "    <tr>\n",
       "      <th>min</th>\n",
       "      <td>2.015120e+05</td>\n",
       "      <td>1.000000e+00</td>\n",
       "      <td>1.000000e+00</td>\n",
       "      <td>1.000000e+00</td>\n",
       "    </tr>\n",
       "    <tr>\n",
       "      <th>25%</th>\n",
       "      <td>2.016080e+05</td>\n",
       "      <td>1.000000e+00</td>\n",
       "      <td>1.140000e+02</td>\n",
       "      <td>9.000000e+02</td>\n",
       "    </tr>\n",
       "    <tr>\n",
       "      <th>50%</th>\n",
       "      <td>2.017040e+05</td>\n",
       "      <td>2.000000e+00</td>\n",
       "      <td>4.330000e+02</td>\n",
       "      <td>3.000000e+03</td>\n",
       "    </tr>\n",
       "    <tr>\n",
       "      <th>75%</th>\n",
       "      <td>2.017120e+05</td>\n",
       "      <td>3.000000e+00</td>\n",
       "      <td>1.279000e+03</td>\n",
       "      <td>9.000000e+03</td>\n",
       "    </tr>\n",
       "    <tr>\n",
       "      <th>max</th>\n",
       "      <td>2.018090e+05</td>\n",
       "      <td>3.000000e+00</td>\n",
       "      <td>4.108269e+06</td>\n",
       "      <td>1.055200e+08</td>\n",
       "    </tr>\n",
       "  </tbody>\n",
       "</table>\n",
       "</div>"
      ],
      "text/plain": [
       "         year_month           day     land_area         price\n",
       "count  1.957155e+06  1.957155e+06  1.957155e+06  1.957155e+06\n",
       "mean   2.016890e+05  2.028108e+00  1.667984e+03  1.207549e+04\n",
       "std    8.298836e+01  8.185804e-01  1.109562e+04  1.640040e+05\n",
       "min    2.015120e+05  1.000000e+00  1.000000e+00  1.000000e+00\n",
       "25%    2.016080e+05  1.000000e+00  1.140000e+02  9.000000e+02\n",
       "50%    2.017040e+05  2.000000e+00  4.330000e+02  3.000000e+03\n",
       "75%    2.017120e+05  3.000000e+00  1.279000e+03  9.000000e+03\n",
       "max    2.018090e+05  3.000000e+00  4.108269e+06  1.055200e+08"
      ]
     },
     "execution_count": 83,
     "metadata": {},
     "output_type": "execute_result"
    }
   ],
   "source": [
    "dataset.describe()"
   ]
  },
  {
   "cell_type": "code",
   "execution_count": 68,
   "metadata": {},
   "outputs": [
    {
     "data": {
      "text/html": [
       "<div>\n",
       "<style scoped>\n",
       "    .dataframe tbody tr th:only-of-type {\n",
       "        vertical-align: middle;\n",
       "    }\n",
       "\n",
       "    .dataframe tbody tr th {\n",
       "        vertical-align: top;\n",
       "    }\n",
       "\n",
       "    .dataframe thead th {\n",
       "        text-align: right;\n",
       "    }\n",
       "</style>\n",
       "<table border=\"1\" class=\"dataframe\">\n",
       "  <thead>\n",
       "    <tr style=\"text-align: right;\">\n",
       "      <th></th>\n",
       "      <th>0</th>\n",
       "    </tr>\n",
       "  </thead>\n",
       "  <tbody>\n",
       "    <tr>\n",
       "      <th>add_1</th>\n",
       "      <td>0</td>\n",
       "    </tr>\n",
       "    <tr>\n",
       "      <th>add_2</th>\n",
       "      <td>8</td>\n",
       "    </tr>\n",
       "    <tr>\n",
       "      <th>land_category</th>\n",
       "      <td>2</td>\n",
       "    </tr>\n",
       "    <tr>\n",
       "      <th>use_district</th>\n",
       "      <td>14</td>\n",
       "    </tr>\n",
       "    <tr>\n",
       "      <th>road_condition</th>\n",
       "      <td>11</td>\n",
       "    </tr>\n",
       "    <tr>\n",
       "      <th>year_month</th>\n",
       "      <td>0</td>\n",
       "    </tr>\n",
       "    <tr>\n",
       "      <th>day</th>\n",
       "      <td>0</td>\n",
       "    </tr>\n",
       "    <tr>\n",
       "      <th>land_area</th>\n",
       "      <td>0</td>\n",
       "    </tr>\n",
       "    <tr>\n",
       "      <th>price</th>\n",
       "      <td>0</td>\n",
       "    </tr>\n",
       "    <tr>\n",
       "      <th>shares</th>\n",
       "      <td>0</td>\n",
       "    </tr>\n",
       "  </tbody>\n",
       "</table>\n",
       "</div>"
      ],
      "text/plain": [
       "                 0\n",
       "add_1            0\n",
       "add_2            8\n",
       "land_category    2\n",
       "use_district    14\n",
       "road_condition  11\n",
       "year_month       0\n",
       "day              0\n",
       "land_area        0\n",
       "price            0\n",
       "shares           0"
      ]
     },
     "execution_count": 68,
     "metadata": {},
     "output_type": "execute_result"
    }
   ],
   "source": [
    "#NaN value\n",
    "dataset.isnull().sum().to_frame()"
   ]
  },
  {
   "cell_type": "code",
   "execution_count": 69,
   "metadata": {},
   "outputs": [
    {
     "data": {
      "text/html": [
       "<div>\n",
       "<style scoped>\n",
       "    .dataframe tbody tr th:only-of-type {\n",
       "        vertical-align: middle;\n",
       "    }\n",
       "\n",
       "    .dataframe tbody tr th {\n",
       "        vertical-align: top;\n",
       "    }\n",
       "\n",
       "    .dataframe thead th {\n",
       "        text-align: right;\n",
       "    }\n",
       "</style>\n",
       "<table border=\"1\" class=\"dataframe\">\n",
       "  <thead>\n",
       "    <tr style=\"text-align: right;\">\n",
       "      <th></th>\n",
       "      <th>0</th>\n",
       "    </tr>\n",
       "  </thead>\n",
       "  <tbody>\n",
       "    <tr>\n",
       "      <th>add_1</th>\n",
       "      <td>0</td>\n",
       "    </tr>\n",
       "    <tr>\n",
       "      <th>add_2</th>\n",
       "      <td>0</td>\n",
       "    </tr>\n",
       "    <tr>\n",
       "      <th>land_category</th>\n",
       "      <td>0</td>\n",
       "    </tr>\n",
       "    <tr>\n",
       "      <th>use_district</th>\n",
       "      <td>0</td>\n",
       "    </tr>\n",
       "    <tr>\n",
       "      <th>road_condition</th>\n",
       "      <td>0</td>\n",
       "    </tr>\n",
       "    <tr>\n",
       "      <th>year_month</th>\n",
       "      <td>0</td>\n",
       "    </tr>\n",
       "    <tr>\n",
       "      <th>day</th>\n",
       "      <td>0</td>\n",
       "    </tr>\n",
       "    <tr>\n",
       "      <th>land_area</th>\n",
       "      <td>0</td>\n",
       "    </tr>\n",
       "    <tr>\n",
       "      <th>price</th>\n",
       "      <td>0</td>\n",
       "    </tr>\n",
       "    <tr>\n",
       "      <th>shares</th>\n",
       "      <td>0</td>\n",
       "    </tr>\n",
       "  </tbody>\n",
       "</table>\n",
       "</div>"
      ],
      "text/plain": [
       "                0\n",
       "add_1           0\n",
       "add_2           0\n",
       "land_category   0\n",
       "use_district    0\n",
       "road_condition  0\n",
       "year_month      0\n",
       "day             0\n",
       "land_area       0\n",
       "price           0\n",
       "shares          0"
      ]
     },
     "execution_count": 69,
     "metadata": {},
     "output_type": "execute_result"
    }
   ],
   "source": [
    "#  NaN ratio  -> use option 1 ...? 8+2+14+11=35...\n",
    "\n",
    "dataset = dataset.dropna(axis=0)\n",
    "dataset.isnull().sum().to_frame()"
   ]
  },
  {
   "cell_type": "code",
   "execution_count": 72,
   "metadata": {
    "scrolled": true
   },
   "outputs": [
    {
     "name": "stderr",
     "output_type": "stream",
     "text": [
      "C:\\Anaconda3\\envs\\public_data_eda\\lib\\site-packages\\matplotlib\\axes\\_base.py:3471: UserWarning:\n",
      "\n",
      "Attempting to set identical bottom==top results\n",
      "in singular transformations; automatically expanding.\n",
      "bottom=0.0, top=0\n",
      "\n"
     ]
    },
    {
     "data": {
      "text/plain": [
       "<matplotlib.axes._subplots.AxesSubplot at 0x1f63fb1e748>"
      ]
     },
     "execution_count": 72,
     "metadata": {},
     "output_type": "execute_result"
    },
    {
     "data": {
      "image/png": "[encoded data removed]",
      "text/plain": [
       "<Figure size 1800x720 with 1 Axes>"
      ]
     },
     "metadata": {
      "needs_background": "light"
     },
     "output_type": "display_data"
    }
   ],
   "source": [
    "#!pip install missingno\n",
    "import missingno \n",
    "import matplotlib\n",
    "%matplotlib inline\n",
    "\n",
    "missingno.dendrogram(dataset)"
   ]
  },
  {
   "cell_type": "code",
   "execution_count": 71,
   "metadata": {},
   "outputs": [
    {
     "data": {
      "text/plain": [
       "<matplotlib.axes._subplots.AxesSubplot at 0x1f63fb534a8>"
      ]
     },
     "execution_count": 71,
     "metadata": {},
     "output_type": "execute_result"
    },
    {
     "data": {
      "image/png": "[encoded data removed]",
      "text/plain": [
       "<Figure size 1800x720 with 2 Axes>"
      ]
     },
     "metadata": {
      "needs_background": "light"
     },
     "output_type": "display_data"
    }
   ],
   "source": [
    "\n",
    "\n",
    "missingno.matrix(dataset)"
   ]
  },
  {
   "cell_type": "code",
   "execution_count": 74,
   "metadata": {},
   "outputs": [
    {
     "name": "stderr",
     "output_type": "stream",
     "text": [
      "C:\\Anaconda3\\envs\\public_data_eda\\lib\\site-packages\\matplotlib\\axes\\_base.py:3471: UserWarning:\n",
      "\n",
      "Attempting to set identical bottom==top results\n",
      "in singular transformations; automatically expanding.\n",
      "bottom=0.0, top=0\n",
      "\n"
     ]
    },
    {
     "data": {
      "text/plain": [
       "<matplotlib.axes._subplots.AxesSubplot at 0x1f63fabdc88>"
      ]
     },
     "execution_count": 74,
     "metadata": {},
     "output_type": "execute_result"
    },
    {
     "data": {
      "image/png": "[encoded data removed]",
      "text/plain": [
       "<Figure size 1800x720 with 1 Axes>"
      ]
     },
     "metadata": {
      "needs_background": "light"
     },
     "output_type": "display_data"
    }
   ],
   "source": [
    "missingno.dendrogram(dataset)"
   ]
  },
  {
   "cell_type": "code",
   "execution_count": 75,
   "metadata": {},
   "outputs": [
    {
     "data": {
      "text/plain": [
       "<matplotlib.axes._subplots.AxesSubplot at 0x1f63fa56cc0>"
      ]
     },
     "execution_count": 75,
     "metadata": {},
     "output_type": "execute_result"
    },
    {
     "data": {
      "image/png": "[encoded data removed]",
      "text/plain": [
       "<Figure size 1728x720 with 3 Axes>"
      ]
     },
     "metadata": {
      "needs_background": "light"
     },
     "output_type": "display_data"
    }
   ],
   "source": [
    "missingno.bar(dataset)"
   ]
  },
  {
   "cell_type": "code",
   "execution_count": 77,
   "metadata": {},
   "outputs": [],
   "source": [
    "import matplotlib.pyplot as plt\n",
    "import seaborn as sns"
   ]
  },
  {
   "cell_type": "code",
   "execution_count": 78,
   "metadata": {},
   "outputs": [
    {
     "data": {
      "text/plain": [
       "<Figure size 864x864 with 0 Axes>"
      ]
     },
     "execution_count": 78,
     "metadata": {},
     "output_type": "execute_result"
    },
    {
     "data": {
      "text/plain": [
       "<Figure size 864x864 with 0 Axes>"
      ]
     },
     "metadata": {},
     "output_type": "display_data"
    }
   ],
   "source": [
    "#Size of Graph\n",
    "plt.figure(figsize=(12,12))"
   ]
  },
  {
   "cell_type": "code",
   "execution_count": 79,
   "metadata": {},
   "outputs": [],
   "source": [
    "plt.show()"
   ]
  },
  {
   "cell_type": "code",
   "execution_count": 82,
   "metadata": {},
   "outputs": [
    {
     "ename": "KeyError",
     "evalue": "\"['계획관리지역' '농림지역' '계획관리지역' ... '농림지역' '생산관리지역' '농림지역'] not in index\"",
     "output_type": "error",
     "traceback": [
      "\u001b[1;31m---------------------------------------------------------------------------\u001b[0m",
      "\u001b[1;31mKeyError\u001b[0m                                  Traceback (most recent call last)",
      "\u001b[1;32m<ipython-input-82-5d67ff7ae05e>\u001b[0m in \u001b[0;36m<module>\u001b[1;34m()\u001b[0m\n\u001b[1;32m----> 1\u001b[1;33m \u001b[0msns\u001b[0m\u001b[1;33m.\u001b[0m\u001b[0mpairplot\u001b[0m\u001b[1;33m(\u001b[0m\u001b[0mdf\u001b[0m\u001b[1;33m,\u001b[0m \u001b[0mhue\u001b[0m\u001b[1;33m=\u001b[0m\u001b[0mdataset\u001b[0m\u001b[1;33m[\u001b[0m\u001b[1;34m'use_district'\u001b[0m\u001b[1;33m]\u001b[0m\u001b[1;33m)\u001b[0m\u001b[1;33m;\u001b[0m\u001b[1;33m\u001b[0m\u001b[0m\n\u001b[0m\u001b[0;32m      2\u001b[0m \u001b[0mplt\u001b[0m\u001b[1;33m.\u001b[0m\u001b[0mshow\u001b[0m\u001b[1;33m(\u001b[0m\u001b[1;33m)\u001b[0m\u001b[1;33m\u001b[0m\u001b[0m\n",
      "\u001b[1;32mC:\\Anaconda3\\envs\\public_data_eda\\lib\\site-packages\\seaborn\\axisgrid.py\u001b[0m in \u001b[0;36mpairplot\u001b[1;34m(data, hue, hue_order, palette, vars, x_vars, y_vars, kind, diag_kind, markers, height, aspect, dropna, plot_kws, diag_kws, grid_kws, size)\u001b[0m\n\u001b[0;32m   2082\u001b[0m                     \u001b[0mhue_order\u001b[0m\u001b[1;33m=\u001b[0m\u001b[0mhue_order\u001b[0m\u001b[1;33m,\u001b[0m \u001b[0mpalette\u001b[0m\u001b[1;33m=\u001b[0m\u001b[0mpalette\u001b[0m\u001b[1;33m,\u001b[0m\u001b[1;33m\u001b[0m\u001b[0m\n\u001b[0;32m   2083\u001b[0m                     \u001b[0mdiag_sharey\u001b[0m\u001b[1;33m=\u001b[0m\u001b[0mdiag_sharey\u001b[0m\u001b[1;33m,\u001b[0m\u001b[1;33m\u001b[0m\u001b[0m\n\u001b[1;32m-> 2084\u001b[1;33m                     height=height, aspect=aspect, dropna=dropna, **grid_kws)\n\u001b[0m\u001b[0;32m   2085\u001b[0m \u001b[1;33m\u001b[0m\u001b[0m\n\u001b[0;32m   2086\u001b[0m     \u001b[1;31m# Add the markers here as PairGrid has figured out how many levels of the\u001b[0m\u001b[1;33m\u001b[0m\u001b[1;33m\u001b[0m\u001b[0m\n",
      "\u001b[1;32mC:\\Anaconda3\\envs\\public_data_eda\\lib\\site-packages\\seaborn\\axisgrid.py\u001b[0m in \u001b[0;36m__init__\u001b[1;34m(self, data, hue, hue_order, palette, hue_kws, vars, x_vars, y_vars, diag_sharey, height, aspect, despine, dropna, size)\u001b[0m\n\u001b[0;32m   1288\u001b[0m                                       index=data.index)\n\u001b[0;32m   1289\u001b[0m         \u001b[1;32melse\u001b[0m\u001b[1;33m:\u001b[0m\u001b[1;33m\u001b[0m\u001b[0m\n\u001b[1;32m-> 1290\u001b[1;33m             \u001b[0mhue_names\u001b[0m \u001b[1;33m=\u001b[0m \u001b[0mutils\u001b[0m\u001b[1;33m.\u001b[0m\u001b[0mcategorical_order\u001b[0m\u001b[1;33m(\u001b[0m\u001b[0mdata\u001b[0m\u001b[1;33m[\u001b[0m\u001b[0mhue\u001b[0m\u001b[1;33m]\u001b[0m\u001b[1;33m,\u001b[0m \u001b[0mhue_order\u001b[0m\u001b[1;33m)\u001b[0m\u001b[1;33m\u001b[0m\u001b[0m\n\u001b[0m\u001b[0;32m   1291\u001b[0m             \u001b[1;32mif\u001b[0m \u001b[0mdropna\u001b[0m\u001b[1;33m:\u001b[0m\u001b[1;33m\u001b[0m\u001b[0m\n\u001b[0;32m   1292\u001b[0m                 \u001b[1;31m# Filter NA from the list of unique hue names\u001b[0m\u001b[1;33m\u001b[0m\u001b[1;33m\u001b[0m\u001b[0m\n",
      "\u001b[1;32mC:\\Anaconda3\\envs\\public_data_eda\\lib\\site-packages\\pandas\\core\\frame.py\u001b[0m in \u001b[0;36m__getitem__\u001b[1;34m(self, key)\u001b[0m\n\u001b[0;32m   2680\u001b[0m         \u001b[1;32mif\u001b[0m \u001b[0misinstance\u001b[0m\u001b[1;33m(\u001b[0m\u001b[0mkey\u001b[0m\u001b[1;33m,\u001b[0m \u001b[1;33m(\u001b[0m\u001b[0mSeries\u001b[0m\u001b[1;33m,\u001b[0m \u001b[0mnp\u001b[0m\u001b[1;33m.\u001b[0m\u001b[0mndarray\u001b[0m\u001b[1;33m,\u001b[0m \u001b[0mIndex\u001b[0m\u001b[1;33m,\u001b[0m \u001b[0mlist\u001b[0m\u001b[1;33m)\u001b[0m\u001b[1;33m)\u001b[0m\u001b[1;33m:\u001b[0m\u001b[1;33m\u001b[0m\u001b[0m\n\u001b[0;32m   2681\u001b[0m             \u001b[1;31m# either boolean or fancy integer index\u001b[0m\u001b[1;33m\u001b[0m\u001b[1;33m\u001b[0m\u001b[0m\n\u001b[1;32m-> 2682\u001b[1;33m             \u001b[1;32mreturn\u001b[0m \u001b[0mself\u001b[0m\u001b[1;33m.\u001b[0m\u001b[0m_getitem_array\u001b[0m\u001b[1;33m(\u001b[0m\u001b[0mkey\u001b[0m\u001b[1;33m)\u001b[0m\u001b[1;33m\u001b[0m\u001b[0m\n\u001b[0m\u001b[0;32m   2683\u001b[0m         \u001b[1;32melif\u001b[0m \u001b[0misinstance\u001b[0m\u001b[1;33m(\u001b[0m\u001b[0mkey\u001b[0m\u001b[1;33m,\u001b[0m \u001b[0mDataFrame\u001b[0m\u001b[1;33m)\u001b[0m\u001b[1;33m:\u001b[0m\u001b[1;33m\u001b[0m\u001b[0m\n\u001b[0;32m   2684\u001b[0m             \u001b[1;32mreturn\u001b[0m \u001b[0mself\u001b[0m\u001b[1;33m.\u001b[0m\u001b[0m_getitem_frame\u001b[0m\u001b[1;33m(\u001b[0m\u001b[0mkey\u001b[0m\u001b[1;33m)\u001b[0m\u001b[1;33m\u001b[0m\u001b[0m\n",
      "\u001b[1;32mC:\\Anaconda3\\envs\\public_data_eda\\lib\\site-packages\\pandas\\core\\frame.py\u001b[0m in \u001b[0;36m_getitem_array\u001b[1;34m(self, key)\u001b[0m\n\u001b[0;32m   2724\u001b[0m             \u001b[1;32mreturn\u001b[0m \u001b[0mself\u001b[0m\u001b[1;33m.\u001b[0m\u001b[0m_take\u001b[0m\u001b[1;33m(\u001b[0m\u001b[0mindexer\u001b[0m\u001b[1;33m,\u001b[0m \u001b[0maxis\u001b[0m\u001b[1;33m=\u001b[0m\u001b[1;36m0\u001b[0m\u001b[1;33m)\u001b[0m\u001b[1;33m\u001b[0m\u001b[0m\n\u001b[0;32m   2725\u001b[0m         \u001b[1;32melse\u001b[0m\u001b[1;33m:\u001b[0m\u001b[1;33m\u001b[0m\u001b[0m\n\u001b[1;32m-> 2726\u001b[1;33m             \u001b[0mindexer\u001b[0m \u001b[1;33m=\u001b[0m \u001b[0mself\u001b[0m\u001b[1;33m.\u001b[0m\u001b[0mloc\u001b[0m\u001b[1;33m.\u001b[0m\u001b[0m_convert_to_indexer\u001b[0m\u001b[1;33m(\u001b[0m\u001b[0mkey\u001b[0m\u001b[1;33m,\u001b[0m \u001b[0maxis\u001b[0m\u001b[1;33m=\u001b[0m\u001b[1;36m1\u001b[0m\u001b[1;33m)\u001b[0m\u001b[1;33m\u001b[0m\u001b[0m\n\u001b[0m\u001b[0;32m   2727\u001b[0m             \u001b[1;32mreturn\u001b[0m \u001b[0mself\u001b[0m\u001b[1;33m.\u001b[0m\u001b[0m_take\u001b[0m\u001b[1;33m(\u001b[0m\u001b[0mindexer\u001b[0m\u001b[1;33m,\u001b[0m \u001b[0maxis\u001b[0m\u001b[1;33m=\u001b[0m\u001b[1;36m1\u001b[0m\u001b[1;33m)\u001b[0m\u001b[1;33m\u001b[0m\u001b[0m\n\u001b[0;32m   2728\u001b[0m \u001b[1;33m\u001b[0m\u001b[0m\n",
      "\u001b[1;32mC:\\Anaconda3\\envs\\public_data_eda\\lib\\site-packages\\pandas\\core\\indexing.py\u001b[0m in \u001b[0;36m_convert_to_indexer\u001b[1;34m(self, obj, axis, is_setter)\u001b[0m\n\u001b[0;32m   1325\u001b[0m                 \u001b[1;32mif\u001b[0m \u001b[0mmask\u001b[0m\u001b[1;33m.\u001b[0m\u001b[0many\u001b[0m\u001b[1;33m(\u001b[0m\u001b[1;33m)\u001b[0m\u001b[1;33m:\u001b[0m\u001b[1;33m\u001b[0m\u001b[0m\n\u001b[0;32m   1326\u001b[0m                     raise KeyError('{mask} not in index'\n\u001b[1;32m-> 1327\u001b[1;33m                                    .format(mask=objarr[mask]))\n\u001b[0m\u001b[0;32m   1328\u001b[0m \u001b[1;33m\u001b[0m\u001b[0m\n\u001b[0;32m   1329\u001b[0m                 \u001b[1;32mreturn\u001b[0m \u001b[0mcom\u001b[0m\u001b[1;33m.\u001b[0m\u001b[0m_values_from_object\u001b[0m\u001b[1;33m(\u001b[0m\u001b[0mindexer\u001b[0m\u001b[1;33m)\u001b[0m\u001b[1;33m\u001b[0m\u001b[0m\n",
      "\u001b[1;31mKeyError\u001b[0m: \"['계획관리지역' '농림지역' '계획관리지역' ... '농림지역' '생산관리지역' '농림지역'] not in index\""
     ]
    },
    {
     "data": {
      "image/png": "[encoded data removed]",
      "text/plain": [
       "<Figure size 360x360 with 4 Axes>"
      ]
     },
     "metadata": {
      "needs_background": "light"
     },
     "output_type": "display_data"
    }
   ],
   "source": [
    "sns.pairplot(df, hue=dataset['use_district']);\n",
    "plt.show()"
   ]
  },
  {
   "cell_type": "code",
   "execution_count": null,
   "metadata": {},
   "outputs": [],
   "source": []
  },
  {
   "cell_type": "code",
   "execution_count": null,
   "metadata": {},
   "outputs": [],
   "source": []
  },
  {
   "cell_type": "code",
   "execution_count": null,
   "metadata": {},
   "outputs": [],
   "source": []
  },
  {
   "cell_type": "code",
   "execution_count": null,
   "metadata": {},
   "outputs": [],
   "source": []
  },
  {
   "cell_type": "code",
   "execution_count": null,
   "metadata": {},
   "outputs": [],
   "source": []
  },
  {
   "cell_type": "code",
   "execution_count": null,
   "metadata": {},
   "outputs": [],
   "source": []
  },
  {
   "cell_type": "code",
   "execution_count": null,
   "metadata": {},
   "outputs": [],
   "source": []
  },
  {
   "cell_type": "code",
   "execution_count": null,
   "metadata": {},
   "outputs": [],
   "source": []
  },
  {
   "cell_type": "code",
   "execution_count": null,
   "metadata": {},
   "outputs": [],
   "source": []
  },
  {
   "cell_type": "code",
   "execution_count": null,
   "metadata": {},
   "outputs": [],
   "source": []
  }
 ],
 "metadata": {
  "kernelspec": {
   "display_name": "Python 3",
   "language": "python",
   "name": "python3"
  },
  "language_info": {
   "codemirror_mode": {
    "name": "ipython",
    "version": 3
   },
   "file_extension": ".py",
   "mimetype": "text/x-python",
   "name": "python",
   "nbconvert_exporter": "python",
   "pygments_lexer": "ipython3",
   "version": "3.6.6"
  }
 },
 "nbformat": 4,
 "nbformat_minor": 2
}
