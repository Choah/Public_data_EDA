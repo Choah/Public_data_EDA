{
 "cells": [
  {
   "cell_type": "markdown",
   "metadata": {},
   "source": [
    "# 부동산 데이터 탐색\n",
    "* 토지"
   ]
  },
  {
   "cell_type": "code",
   "execution_count": 1,
   "metadata": {},
   "outputs": [],
   "source": [
    "import numpy as np\n",
    "import pandas as pd\n",
    "import os\n",
    "import glob\n",
    "import plotly"
   ]
  },
  {
   "cell_type": "code",
   "execution_count": 2,
   "metadata": {},
   "outputs": [],
   "source": [
    "path=\"Dataset/LAND\"\n",
    "allFiles = glob.glob(os.path.join(path,\"*.csv\"))"
   ]
  },
  {
   "cell_type": "code",
   "execution_count": 3,
   "metadata": {},
   "outputs": [
    {
     "data": {
      "text/plain": [
       "['Dataset/LAND\\\\토지(매매)-실거래가-201809.csv',\n",
       " 'Dataset/LAND\\\\토지(매매)_실거래가-201512.csv',\n",
       " 'Dataset/LAND\\\\토지(매매)_실거래가-201601.csv',\n",
       " 'Dataset/LAND\\\\토지(매매)_실거래가-201602.csv',\n",
       " 'Dataset/LAND\\\\토지(매매)_실거래가-201603.csv',\n",
       " 'Dataset/LAND\\\\토지(매매)_실거래가-201604.csv',\n",
       " 'Dataset/LAND\\\\토지(매매)_실거래가-201605.csv',\n",
       " 'Dataset/LAND\\\\토지(매매)_실거래가-201606.csv',\n",
       " 'Dataset/LAND\\\\토지(매매)_실거래가-201607.csv',\n",
       " 'Dataset/LAND\\\\토지(매매)_실거래가-201608.csv',\n",
       " 'Dataset/LAND\\\\토지(매매)_실거래가-201609.csv',\n",
       " 'Dataset/LAND\\\\토지(매매)_실거래가-201610.csv',\n",
       " 'Dataset/LAND\\\\토지(매매)_실거래가-201611.csv',\n",
       " 'Dataset/LAND\\\\토지(매매)_실거래가-201612.csv',\n",
       " 'Dataset/LAND\\\\토지(매매)_실거래가-201701.csv',\n",
       " 'Dataset/LAND\\\\토지(매매)_실거래가-201702.csv',\n",
       " 'Dataset/LAND\\\\토지(매매)_실거래가-201703.csv',\n",
       " 'Dataset/LAND\\\\토지(매매)_실거래가-201704.csv',\n",
       " 'Dataset/LAND\\\\토지(매매)_실거래가-201705.csv',\n",
       " 'Dataset/LAND\\\\토지(매매)_실거래가-201706.csv',\n",
       " 'Dataset/LAND\\\\토지(매매)_실거래가-201707.csv',\n",
       " 'Dataset/LAND\\\\토지(매매)_실거래가-201708.csv',\n",
       " 'Dataset/LAND\\\\토지(매매)_실거래가-201709.csv',\n",
       " 'Dataset/LAND\\\\토지(매매)_실거래가-201710.csv',\n",
       " 'Dataset/LAND\\\\토지(매매)_실거래가-201711.csv',\n",
       " 'Dataset/LAND\\\\토지(매매)_실거래가-201712.csv',\n",
       " 'Dataset/LAND\\\\토지(매매)_실거래가-201801.csv',\n",
       " 'Dataset/LAND\\\\토지(매매)_실거래가-201802.csv',\n",
       " 'Dataset/LAND\\\\토지(매매)_실거래가-201803.csv',\n",
       " 'Dataset/LAND\\\\토지(매매)_실거래가-201804.csv',\n",
       " 'Dataset/LAND\\\\토지(매매)_실거래가-201805.csv',\n",
       " 'Dataset/LAND\\\\토지(매매)_실거래가-201806.csv',\n",
       " 'Dataset/LAND\\\\토지(매매)_실거래가-201807.csv',\n",
       " 'Dataset/LAND\\\\토지(매매)_실거래가-201808.csv']"
      ]
     },
     "execution_count": 3,
     "metadata": {},
     "output_type": "execute_result"
    }
   ],
   "source": [
    "allFiles"
   ]
  },
  {
   "cell_type": "code",
   "execution_count": 4,
   "metadata": {},
   "outputs": [
    {
     "name": "stderr",
     "output_type": "stream",
     "text": [
      "C:\\Anaconda3\\envs\\public_data_eda\\lib\\site-packages\\ipykernel_launcher.py:4: FutureWarning:\n",
      "\n",
      "Method .as_matrix will be removed in a future version. Use .values instead.\n",
      "\n"
     ]
    }
   ],
   "source": [
    "np_array_list = []\n",
    "for file_ in allFiles:\n",
    "    df=pd.read_csv(file_,index_col=None,skiprows=14,engine='python')\n",
    "    np_array_list.append(df.as_matrix())\n",
    "\n",
    "comb_np_array = np.vstack(np_array_list)\n",
    "dataset = pd.DataFrame(comb_np_array)\n",
    "dataset.columns = df.columns"
   ]
  },
  {
   "cell_type": "code",
   "execution_count": 5,
   "metadata": {},
   "outputs": [
    {
     "data": {
      "text/plain": [
       "Index(['시군구', '번지', '지목', '용도지역', '도로조건', '계약년월', '계약일', '계약면적(㎡)', '거래금액(만원)',\n",
       "       '지분구분'],\n",
       "      dtype='object')"
      ]
     },
     "execution_count": 5,
     "metadata": {},
     "output_type": "execute_result"
    }
   ],
   "source": [
    "dataset.columns"
   ]
  },
  {
   "cell_type": "code",
   "execution_count": 6,
   "metadata": {},
   "outputs": [],
   "source": [
    "dataset.columns = [\"add_1\", \"add_2\", \"land_category\", \"use_district\", \n",
    "                   \"road_condition\", \"year_month\", \"day\", \"land_area\", \n",
    "                   \"price\", \"shares\"]"
   ]
  },
  {
   "cell_type": "code",
   "execution_count": 7,
   "metadata": {},
   "outputs": [
    {
     "data": {
      "text/plain": [
       "(1957190, 10)"
      ]
     },
     "execution_count": 7,
     "metadata": {},
     "output_type": "execute_result"
    }
   ],
   "source": [
    "dataset.shape #관측치:1,957,190, 항목: 10"
   ]
  },
  {
   "cell_type": "code",
   "execution_count": 8,
   "metadata": {},
   "outputs": [
    {
     "data": {
      "text/html": [
       "<div>\n",
       "<style scoped>\n",
       "    .dataframe tbody tr th:only-of-type {\n",
       "        vertical-align: middle;\n",
       "    }\n",
       "\n",
       "    .dataframe tbody tr th {\n",
       "        vertical-align: top;\n",
       "    }\n",
       "\n",
       "    .dataframe thead th {\n",
       "        text-align: right;\n",
       "    }\n",
       "</style>\n",
       "<table border=\"1\" class=\"dataframe\">\n",
       "  <thead>\n",
       "    <tr style=\"text-align: right;\">\n",
       "      <th></th>\n",
       "      <th>add_1</th>\n",
       "      <th>add_2</th>\n",
       "      <th>land_category</th>\n",
       "      <th>use_district</th>\n",
       "      <th>road_condition</th>\n",
       "      <th>year_month</th>\n",
       "      <th>day</th>\n",
       "      <th>land_area</th>\n",
       "      <th>price</th>\n",
       "      <th>shares</th>\n",
       "    </tr>\n",
       "  </thead>\n",
       "  <tbody>\n",
       "    <tr>\n",
       "      <th>0</th>\n",
       "      <td>전라남도 순천시 주암면 오산리</td>\n",
       "      <td>6**</td>\n",
       "      <td>대</td>\n",
       "      <td>계획관리지역</td>\n",
       "      <td>8m미만</td>\n",
       "      <td>201809</td>\n",
       "      <td>1~10</td>\n",
       "      <td>452</td>\n",
       "      <td>1,000</td>\n",
       "      <td></td>\n",
       "    </tr>\n",
       "    <tr>\n",
       "      <th>1</th>\n",
       "      <td>전라남도 고흥군 영남면 금사리</td>\n",
       "      <td>6*</td>\n",
       "      <td>임야</td>\n",
       "      <td>농림지역</td>\n",
       "      <td>-</td>\n",
       "      <td>201809</td>\n",
       "      <td>1~10</td>\n",
       "      <td>668</td>\n",
       "      <td>1,000</td>\n",
       "      <td></td>\n",
       "    </tr>\n",
       "    <tr>\n",
       "      <th>2</th>\n",
       "      <td>경기도 화성시 서신면 사곳리</td>\n",
       "      <td>5*</td>\n",
       "      <td>임야</td>\n",
       "      <td>계획관리지역</td>\n",
       "      <td>8m미만</td>\n",
       "      <td>201809</td>\n",
       "      <td>1~10</td>\n",
       "      <td>185</td>\n",
       "      <td>1,000</td>\n",
       "      <td></td>\n",
       "    </tr>\n",
       "    <tr>\n",
       "      <th>3</th>\n",
       "      <td>경상남도 하동군 북천면 사평리</td>\n",
       "      <td>4**</td>\n",
       "      <td>답</td>\n",
       "      <td>농림지역</td>\n",
       "      <td>8m미만</td>\n",
       "      <td>201809</td>\n",
       "      <td>1~10</td>\n",
       "      <td>456</td>\n",
       "      <td>1,000</td>\n",
       "      <td></td>\n",
       "    </tr>\n",
       "    <tr>\n",
       "      <th>4</th>\n",
       "      <td>경기도 양평군 서종면 문호리</td>\n",
       "      <td>4*</td>\n",
       "      <td>도로</td>\n",
       "      <td>계획관리지역</td>\n",
       "      <td>-</td>\n",
       "      <td>201809</td>\n",
       "      <td>1~10</td>\n",
       "      <td>32</td>\n",
       "      <td>1,000</td>\n",
       "      <td>지분</td>\n",
       "    </tr>\n",
       "  </tbody>\n",
       "</table>\n",
       "</div>"
      ],
      "text/plain": [
       "              add_1 add_2 land_category use_district road_condition  \\\n",
       "0  전라남도 순천시 주암면 오산리   6**             대       계획관리지역           8m미만   \n",
       "1  전라남도 고흥군 영남면 금사리    6*            임야         농림지역              -   \n",
       "2   경기도 화성시 서신면 사곳리    5*            임야       계획관리지역           8m미만   \n",
       "3  경상남도 하동군 북천면 사평리   4**             답         농림지역           8m미만   \n",
       "4   경기도 양평군 서종면 문호리    4*            도로       계획관리지역              -   \n",
       "\n",
       "  year_month   day land_area  price shares  \n",
       "0     201809  1~10       452  1,000         \n",
       "1     201809  1~10       668  1,000         \n",
       "2     201809  1~10       185  1,000         \n",
       "3     201809  1~10       456  1,000         \n",
       "4     201809  1~10        32  1,000     지분  "
      ]
     },
     "execution_count": 8,
     "metadata": {},
     "output_type": "execute_result"
    }
   ],
   "source": [
    "dataset.head()"
   ]
  },
  {
   "cell_type": "code",
   "execution_count": 9,
   "metadata": {},
   "outputs": [
    {
     "data": {
      "text/html": [
       "<div>\n",
       "<style scoped>\n",
       "    .dataframe tbody tr th:only-of-type {\n",
       "        vertical-align: middle;\n",
       "    }\n",
       "\n",
       "    .dataframe tbody tr th {\n",
       "        vertical-align: top;\n",
       "    }\n",
       "\n",
       "    .dataframe thead th {\n",
       "        text-align: right;\n",
       "    }\n",
       "</style>\n",
       "<table border=\"1\" class=\"dataframe\">\n",
       "  <thead>\n",
       "    <tr style=\"text-align: right;\">\n",
       "      <th></th>\n",
       "      <th>add_1</th>\n",
       "      <th>add_2</th>\n",
       "      <th>land_category</th>\n",
       "      <th>use_district</th>\n",
       "      <th>road_condition</th>\n",
       "      <th>year_month</th>\n",
       "      <th>day</th>\n",
       "      <th>land_area</th>\n",
       "      <th>price</th>\n",
       "      <th>shares</th>\n",
       "    </tr>\n",
       "  </thead>\n",
       "  <tbody>\n",
       "    <tr>\n",
       "      <th>1957185</th>\n",
       "      <td>경기도 하남시 상산곡동</td>\n",
       "      <td>산3**</td>\n",
       "      <td>임야</td>\n",
       "      <td>개발제한구역</td>\n",
       "      <td>-</td>\n",
       "      <td>201808</td>\n",
       "      <td>21~31</td>\n",
       "      <td>93</td>\n",
       "      <td>986</td>\n",
       "      <td>지분</td>\n",
       "    </tr>\n",
       "    <tr>\n",
       "      <th>1957186</th>\n",
       "      <td>경상북도 상주시 외남면 흔평리</td>\n",
       "      <td>9**</td>\n",
       "      <td>답</td>\n",
       "      <td>생산관리지역</td>\n",
       "      <td>-</td>\n",
       "      <td>201808</td>\n",
       "      <td>21~31</td>\n",
       "      <td>1445</td>\n",
       "      <td>990</td>\n",
       "      <td></td>\n",
       "    </tr>\n",
       "    <tr>\n",
       "      <th>1957187</th>\n",
       "      <td>세종특별자치시 전의면 유천리</td>\n",
       "      <td>산9*</td>\n",
       "      <td>임야</td>\n",
       "      <td>농림지역</td>\n",
       "      <td>-</td>\n",
       "      <td>201808</td>\n",
       "      <td>21~31</td>\n",
       "      <td>330</td>\n",
       "      <td>990</td>\n",
       "      <td>지분</td>\n",
       "    </tr>\n",
       "    <tr>\n",
       "      <th>1957188</th>\n",
       "      <td>전라남도 장성군 삼계면 부성리</td>\n",
       "      <td>7**</td>\n",
       "      <td>잡종지</td>\n",
       "      <td>생산관리지역</td>\n",
       "      <td>-</td>\n",
       "      <td>201808</td>\n",
       "      <td>21~31</td>\n",
       "      <td>464</td>\n",
       "      <td>995</td>\n",
       "      <td></td>\n",
       "    </tr>\n",
       "    <tr>\n",
       "      <th>1957189</th>\n",
       "      <td>경상북도 의성군 신평면 덕봉리</td>\n",
       "      <td>3*</td>\n",
       "      <td>답</td>\n",
       "      <td>농림지역</td>\n",
       "      <td>8m미만</td>\n",
       "      <td>201808</td>\n",
       "      <td>21~31</td>\n",
       "      <td>1098</td>\n",
       "      <td>998</td>\n",
       "      <td></td>\n",
       "    </tr>\n",
       "  </tbody>\n",
       "</table>\n",
       "</div>"
      ],
      "text/plain": [
       "                    add_1 add_2 land_category use_district road_condition  \\\n",
       "1957185      경기도 하남시 상산곡동  산3**            임야       개발제한구역              -   \n",
       "1957186  경상북도 상주시 외남면 흔평리   9**             답       생산관리지역              -   \n",
       "1957187   세종특별자치시 전의면 유천리   산9*            임야         농림지역              -   \n",
       "1957188  전라남도 장성군 삼계면 부성리   7**           잡종지       생산관리지역              -   \n",
       "1957189  경상북도 의성군 신평면 덕봉리    3*             답         농림지역           8m미만   \n",
       "\n",
       "        year_month    day land_area price shares  \n",
       "1957185     201808  21~31        93   986     지분  \n",
       "1957186     201808  21~31      1445   990         \n",
       "1957187     201808  21~31       330   990     지분  \n",
       "1957188     201808  21~31       464   995         \n",
       "1957189     201808  21~31      1098   998         "
      ]
     },
     "execution_count": 9,
     "metadata": {},
     "output_type": "execute_result"
    }
   ],
   "source": [
    "dataset.tail()"
   ]
  },
  {
   "cell_type": "code",
   "execution_count": null,
   "metadata": {},
   "outputs": [],
   "source": []
  },
  {
   "cell_type": "code",
   "execution_count": null,
   "metadata": {},
   "outputs": [],
   "source": []
  },
  {
   "cell_type": "code",
   "execution_count": null,
   "metadata": {},
   "outputs": [],
   "source": []
  },
  {
   "cell_type": "code",
   "execution_count": null,
   "metadata": {},
   "outputs": [],
   "source": []
  }
 ],
 "metadata": {
  "kernelspec": {
   "display_name": "Python 3",
   "language": "python",
   "name": "python3"
  },
  "language_info": {
   "codemirror_mode": {
    "name": "ipython",
    "version": 3
   },
   "file_extension": ".py",
   "mimetype": "text/x-python",
   "name": "python",
   "nbconvert_exporter": "python",
   "pygments_lexer": "ipython3",
   "version": "3.6.6"
  }
 },
 "nbformat": 4,
 "nbformat_minor": 2
}
