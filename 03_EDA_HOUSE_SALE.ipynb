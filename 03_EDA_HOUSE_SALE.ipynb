{
 "cells": [
  {
   "cell_type": "markdown",
   "metadata": {},
   "source": [
    "# 부동산 데이터 탐색\n",
    "* 단독다가구(매매)"
   ]
  },
  {
   "cell_type": "markdown",
   "metadata": {},
   "source": [
    "## 라이브러리"
   ]
  },
  {
   "cell_type": "code",
   "execution_count": 1,
   "metadata": {},
   "outputs": [],
   "source": [
    "import numpy as np\n",
    "import pandas as pd\n",
    "import os\n",
    "import glob\n",
    "import plotly"
   ]
  },
  {
   "cell_type": "markdown",
   "metadata": {},
   "source": [
    "## 데이터 불러오기"
   ]
  },
  {
   "cell_type": "code",
   "execution_count": 2,
   "metadata": {},
   "outputs": [],
   "source": [
    "path = \"Dataset/HOUSE_SALE\"\n",
    "allFiles = glob.glob(os.path.join(path,\"*.csv\"))"
   ]
  },
  {
   "cell_type": "code",
   "execution_count": 3,
   "metadata": {},
   "outputs": [
    {
     "data": {
      "text/plain": [
       "['Dataset/HOUSE_SALE\\\\단독다가구(매매)_실거래가_2015_12.csv',\n",
       " 'Dataset/HOUSE_SALE\\\\단독다가구(매매)_실거래가_2016_01.csv',\n",
       " 'Dataset/HOUSE_SALE\\\\단독다가구(매매)_실거래가_2016_02.csv',\n",
       " 'Dataset/HOUSE_SALE\\\\단독다가구(매매)_실거래가_2016_03.csv',\n",
       " 'Dataset/HOUSE_SALE\\\\단독다가구(매매)_실거래가_2016_04.csv',\n",
       " 'Dataset/HOUSE_SALE\\\\단독다가구(매매)_실거래가_2016_05.csv',\n",
       " 'Dataset/HOUSE_SALE\\\\단독다가구(매매)_실거래가_2016_06.csv',\n",
       " 'Dataset/HOUSE_SALE\\\\단독다가구(매매)_실거래가_2016_07.csv',\n",
       " 'Dataset/HOUSE_SALE\\\\단독다가구(매매)_실거래가_2016_08.csv',\n",
       " 'Dataset/HOUSE_SALE\\\\단독다가구(매매)_실거래가_2016_09.csv',\n",
       " 'Dataset/HOUSE_SALE\\\\단독다가구(매매)_실거래가_2016_10.csv',\n",
       " 'Dataset/HOUSE_SALE\\\\단독다가구(매매)_실거래가_2016_11.csv',\n",
       " 'Dataset/HOUSE_SALE\\\\단독다가구(매매)_실거래가_2016_12.csv',\n",
       " 'Dataset/HOUSE_SALE\\\\단독다가구(매매)_실거래가_2017_01.csv',\n",
       " 'Dataset/HOUSE_SALE\\\\단독다가구(매매)_실거래가_2017_02.csv',\n",
       " 'Dataset/HOUSE_SALE\\\\단독다가구(매매)_실거래가_2017_03.csv',\n",
       " 'Dataset/HOUSE_SALE\\\\단독다가구(매매)_실거래가_2017_04.csv',\n",
       " 'Dataset/HOUSE_SALE\\\\단독다가구(매매)_실거래가_2017_05.csv',\n",
       " 'Dataset/HOUSE_SALE\\\\단독다가구(매매)_실거래가_2017_06.csv',\n",
       " 'Dataset/HOUSE_SALE\\\\단독다가구(매매)_실거래가_2017_07.csv',\n",
       " 'Dataset/HOUSE_SALE\\\\단독다가구(매매)_실거래가_2017_08.csv',\n",
       " 'Dataset/HOUSE_SALE\\\\단독다가구(매매)_실거래가_2017_09.csv',\n",
       " 'Dataset/HOUSE_SALE\\\\단독다가구(매매)_실거래가_2017_10.csv',\n",
       " 'Dataset/HOUSE_SALE\\\\단독다가구(매매)_실거래가_2017_11.csv',\n",
       " 'Dataset/HOUSE_SALE\\\\단독다가구(매매)_실거래가_2017_12.csv',\n",
       " 'Dataset/HOUSE_SALE\\\\단독다가구(매매)_실거래가_2018_01.csv',\n",
       " 'Dataset/HOUSE_SALE\\\\단독다가구(매매)_실거래가_2018_02.csv',\n",
       " 'Dataset/HOUSE_SALE\\\\단독다가구(매매)_실거래가_2018_03.csv',\n",
       " 'Dataset/HOUSE_SALE\\\\단독다가구(매매)_실거래가_2018_04.csv',\n",
       " 'Dataset/HOUSE_SALE\\\\단독다가구(매매)_실거래가_2018_05.csv',\n",
       " 'Dataset/HOUSE_SALE\\\\단독다가구(매매)_실거래가_2018_06.csv',\n",
       " 'Dataset/HOUSE_SALE\\\\단독다가구(매매)_실거래가_2018_07.csv',\n",
       " 'Dataset/HOUSE_SALE\\\\단독다가구(매매)_실거래가_2018_08.csv',\n",
       " 'Dataset/HOUSE_SALE\\\\단독다가구(매매)_실거래가_2018_09.csv']"
      ]
     },
     "execution_count": 3,
     "metadata": {},
     "output_type": "execute_result"
    }
   ],
   "source": [
    "allFiles"
   ]
  },
  {
   "cell_type": "code",
   "execution_count": 4,
   "metadata": {},
   "outputs": [
    {
     "name": "stderr",
     "output_type": "stream",
     "text": [
      "C:\\Users\\wooil\\Anaconda3\\envs\\public_data_eda\\lib\\site-packages\\ipykernel_launcher.py:4: FutureWarning:\n",
      "\n",
      "Method .as_matrix will be removed in a future version. Use .values instead.\n",
      "\n"
     ]
    }
   ],
   "source": [
    "np_array_list = []\n",
    "for file_ in allFiles:\n",
    "    df = pd.read_csv(file_,index_col=None,skiprows = 15, engine='python')\n",
    "    np_array_list.append(df.as_matrix())\n",
    "\n",
    "comb_np_array = np.vstack(np_array_list)\n",
    "dataset = pd.DataFrame(comb_np_array)\n",
    "dataset.columns = df.columns"
   ]
  },
  {
   "cell_type": "code",
   "execution_count": 5,
   "metadata": {},
   "outputs": [
    {
     "data": {
      "text/plain": [
       "Index(['시군구', '번지', '주택유형', '도로조건', '연면적(㎡)', '대지면적(㎡)', '계약년월', '계약일',\n",
       "       '거래금액(만원)', '건축년도', '도로명'],\n",
       "      dtype='object')"
      ]
     },
     "execution_count": 5,
     "metadata": {},
     "output_type": "execute_result"
    }
   ],
   "source": [
    "dataset.columns"
   ]
  },
  {
   "cell_type": "code",
   "execution_count": 6,
   "metadata": {},
   "outputs": [],
   "source": [
    "dataset.columns = [\"add_1\", \"add_2\", \"class\", \"road_condition\", \n",
    "                   \"GFA\", \"land_area\", \"year_month\", \"day\", \n",
    "                   \"price\", \"built_year\", \"road_name\"]"
   ]
  },
  {
   "cell_type": "markdown",
   "metadata": {},
   "source": [
    "## 전체 데이터셋 구조"
   ]
  },
  {
   "cell_type": "code",
   "execution_count": 7,
   "metadata": {},
   "outputs": [
    {
     "data": {
      "text/plain": [
       "(313710, 11)"
      ]
     },
     "execution_count": 7,
     "metadata": {},
     "output_type": "execute_result"
    }
   ],
   "source": [
    "dataset.shape # 관측치 : 313710, 항목 : 11"
   ]
  },
  {
   "cell_type": "code",
   "execution_count": 8,
   "metadata": {},
   "outputs": [
    {
     "data": {
      "text/html": [
       "<div>\n",
       "<style scoped>\n",
       "    .dataframe tbody tr th:only-of-type {\n",
       "        vertical-align: middle;\n",
       "    }\n",
       "\n",
       "    .dataframe tbody tr th {\n",
       "        vertical-align: top;\n",
       "    }\n",
       "\n",
       "    .dataframe thead th {\n",
       "        text-align: right;\n",
       "    }\n",
       "</style>\n",
       "<table border=\"1\" class=\"dataframe\">\n",
       "  <thead>\n",
       "    <tr style=\"text-align: right;\">\n",
       "      <th></th>\n",
       "      <th>add_1</th>\n",
       "      <th>add_2</th>\n",
       "      <th>class</th>\n",
       "      <th>road_condition</th>\n",
       "      <th>GFA</th>\n",
       "      <th>land_area</th>\n",
       "      <th>year_month</th>\n",
       "      <th>day</th>\n",
       "      <th>price</th>\n",
       "      <th>built_year</th>\n",
       "      <th>road_name</th>\n",
       "    </tr>\n",
       "  </thead>\n",
       "  <tbody>\n",
       "    <tr>\n",
       "      <th>0</th>\n",
       "      <td>강원도 강릉시 교동</td>\n",
       "      <td>1***</td>\n",
       "      <td>다가구</td>\n",
       "      <td>12m미만</td>\n",
       "      <td>371.58</td>\n",
       "      <td>219.3</td>\n",
       "      <td>201512</td>\n",
       "      <td>1~10</td>\n",
       "      <td>63,000</td>\n",
       "      <td>2003</td>\n",
       "      <td>하슬라로206번길</td>\n",
       "    </tr>\n",
       "    <tr>\n",
       "      <th>1</th>\n",
       "      <td>강원도 강릉시 교동</td>\n",
       "      <td>7**</td>\n",
       "      <td>단독</td>\n",
       "      <td>8m미만</td>\n",
       "      <td>122.52</td>\n",
       "      <td>121</td>\n",
       "      <td>201512</td>\n",
       "      <td>11~20</td>\n",
       "      <td>9,000</td>\n",
       "      <td>1985</td>\n",
       "      <td>화부산로117번길</td>\n",
       "    </tr>\n",
       "    <tr>\n",
       "      <th>2</th>\n",
       "      <td>강원도 강릉시 교동</td>\n",
       "      <td>1**</td>\n",
       "      <td>단독</td>\n",
       "      <td>25m이상</td>\n",
       "      <td>193.29</td>\n",
       "      <td>156</td>\n",
       "      <td>201512</td>\n",
       "      <td>1~10</td>\n",
       "      <td>11,500</td>\n",
       "      <td>1978</td>\n",
       "      <td>율곡로</td>\n",
       "    </tr>\n",
       "    <tr>\n",
       "      <th>3</th>\n",
       "      <td>강원도 강릉시 교동</td>\n",
       "      <td>9**</td>\n",
       "      <td>단독</td>\n",
       "      <td>12m미만</td>\n",
       "      <td>88.62</td>\n",
       "      <td>178.2</td>\n",
       "      <td>201512</td>\n",
       "      <td>21~31</td>\n",
       "      <td>11,000</td>\n",
       "      <td>1976</td>\n",
       "      <td>원대로20번길</td>\n",
       "    </tr>\n",
       "    <tr>\n",
       "      <th>4</th>\n",
       "      <td>강원도 강릉시 교동</td>\n",
       "      <td>1**</td>\n",
       "      <td>단독</td>\n",
       "      <td>8m미만</td>\n",
       "      <td>81.67</td>\n",
       "      <td>185</td>\n",
       "      <td>201512</td>\n",
       "      <td>1~10</td>\n",
       "      <td>9,700</td>\n",
       "      <td>1982</td>\n",
       "      <td>강릉대로211번길</td>\n",
       "    </tr>\n",
       "  </tbody>\n",
       "</table>\n",
       "</div>"
      ],
      "text/plain": [
       "        add_1 add_2 class road_condition     GFA land_area year_month    day  \\\n",
       "0  강원도 강릉시 교동  1***   다가구          12m미만  371.58     219.3     201512   1~10   \n",
       "1  강원도 강릉시 교동   7**    단독           8m미만  122.52       121     201512  11~20   \n",
       "2  강원도 강릉시 교동   1**    단독          25m이상  193.29       156     201512   1~10   \n",
       "3  강원도 강릉시 교동   9**    단독          12m미만   88.62     178.2     201512  21~31   \n",
       "4  강원도 강릉시 교동   1**    단독           8m미만   81.67       185     201512   1~10   \n",
       "\n",
       "    price built_year  road_name  \n",
       "0  63,000       2003  하슬라로206번길  \n",
       "1   9,000       1985  화부산로117번길  \n",
       "2  11,500       1978        율곡로  \n",
       "3  11,000       1976    원대로20번길  \n",
       "4   9,700       1982  강릉대로211번길  "
      ]
     },
     "execution_count": 8,
     "metadata": {},
     "output_type": "execute_result"
    }
   ],
   "source": [
    "dataset.head()"
   ]
  },
  {
   "cell_type": "code",
   "execution_count": 9,
   "metadata": {},
   "outputs": [
    {
     "data": {
      "text/html": [
       "<div>\n",
       "<style scoped>\n",
       "    .dataframe tbody tr th:only-of-type {\n",
       "        vertical-align: middle;\n",
       "    }\n",
       "\n",
       "    .dataframe tbody tr th {\n",
       "        vertical-align: top;\n",
       "    }\n",
       "\n",
       "    .dataframe thead th {\n",
       "        text-align: right;\n",
       "    }\n",
       "</style>\n",
       "<table border=\"1\" class=\"dataframe\">\n",
       "  <thead>\n",
       "    <tr style=\"text-align: right;\">\n",
       "      <th></th>\n",
       "      <th>add_1</th>\n",
       "      <th>add_2</th>\n",
       "      <th>class</th>\n",
       "      <th>road_condition</th>\n",
       "      <th>GFA</th>\n",
       "      <th>land_area</th>\n",
       "      <th>year_month</th>\n",
       "      <th>day</th>\n",
       "      <th>price</th>\n",
       "      <th>built_year</th>\n",
       "      <th>road_name</th>\n",
       "    </tr>\n",
       "  </thead>\n",
       "  <tbody>\n",
       "    <tr>\n",
       "      <th>313705</th>\n",
       "      <td>충청북도 충주시 주덕읍 대곡리</td>\n",
       "      <td>6**</td>\n",
       "      <td>단독</td>\n",
       "      <td>8m미만</td>\n",
       "      <td>84.88</td>\n",
       "      <td>909</td>\n",
       "      <td>201809</td>\n",
       "      <td>11~20</td>\n",
       "      <td>5,400</td>\n",
       "      <td>1900</td>\n",
       "      <td>큰골길</td>\n",
       "    </tr>\n",
       "    <tr>\n",
       "      <th>313706</th>\n",
       "      <td>충청북도 충주시 주덕읍 장록리</td>\n",
       "      <td>1**</td>\n",
       "      <td>단독</td>\n",
       "      <td>12m미만</td>\n",
       "      <td>108.33</td>\n",
       "      <td>727</td>\n",
       "      <td>201809</td>\n",
       "      <td>11~20</td>\n",
       "      <td>14,000</td>\n",
       "      <td>2003</td>\n",
       "      <td>당우리길</td>\n",
       "    </tr>\n",
       "    <tr>\n",
       "      <th>313707</th>\n",
       "      <td>충청북도 충주시 중앙탑면 가흥리</td>\n",
       "      <td>9**</td>\n",
       "      <td>단독</td>\n",
       "      <td>8m미만</td>\n",
       "      <td>49.98</td>\n",
       "      <td>223</td>\n",
       "      <td>201809</td>\n",
       "      <td>11~20</td>\n",
       "      <td>2,000</td>\n",
       "      <td>1905</td>\n",
       "      <td>원동길</td>\n",
       "    </tr>\n",
       "    <tr>\n",
       "      <th>313708</th>\n",
       "      <td>충청북도 충주시 지현동</td>\n",
       "      <td>3**</td>\n",
       "      <td>단독</td>\n",
       "      <td>8m미만</td>\n",
       "      <td>49.22</td>\n",
       "      <td>112</td>\n",
       "      <td>201809</td>\n",
       "      <td>11~20</td>\n",
       "      <td>6,800</td>\n",
       "      <td>1969</td>\n",
       "      <td>사직산12길</td>\n",
       "    </tr>\n",
       "    <tr>\n",
       "      <th>313709</th>\n",
       "      <td>충청북도 충주시 지현동</td>\n",
       "      <td>7**</td>\n",
       "      <td>단독</td>\n",
       "      <td>8m미만</td>\n",
       "      <td>66.09</td>\n",
       "      <td>116</td>\n",
       "      <td>201809</td>\n",
       "      <td>11~20</td>\n",
       "      <td>8,400</td>\n",
       "      <td>1960</td>\n",
       "      <td>지곡6길</td>\n",
       "    </tr>\n",
       "  </tbody>\n",
       "</table>\n",
       "</div>"
      ],
      "text/plain": [
       "                    add_1 add_2 class road_condition     GFA land_area  \\\n",
       "313705   충청북도 충주시 주덕읍 대곡리   6**    단독           8m미만   84.88       909   \n",
       "313706   충청북도 충주시 주덕읍 장록리   1**    단독          12m미만  108.33       727   \n",
       "313707  충청북도 충주시 중앙탑면 가흥리   9**    단독           8m미만   49.98       223   \n",
       "313708       충청북도 충주시 지현동   3**    단독           8m미만   49.22       112   \n",
       "313709       충청북도 충주시 지현동   7**    단독           8m미만   66.09       116   \n",
       "\n",
       "       year_month    day   price built_year road_name  \n",
       "313705     201809  11~20   5,400       1900       큰골길  \n",
       "313706     201809  11~20  14,000       2003      당우리길  \n",
       "313707     201809  11~20   2,000       1905       원동길  \n",
       "313708     201809  11~20   6,800       1969    사직산12길  \n",
       "313709     201809  11~20   8,400       1960      지곡6길  "
      ]
     },
     "execution_count": 9,
     "metadata": {},
     "output_type": "execute_result"
    }
   ],
   "source": [
    "dataset.tail()"
   ]
  },
  {
   "cell_type": "code",
   "execution_count": null,
   "metadata": {},
   "outputs": [],
   "source": []
  }
 ],
 "metadata": {
  "kernelspec": {
   "display_name": "Python 3",
   "language": "python",
   "name": "python3"
  },
  "language_info": {
   "codemirror_mode": {
    "name": "ipython",
    "version": 3
   },
   "file_extension": ".py",
   "mimetype": "text/x-python",
   "name": "python",
   "nbconvert_exporter": "python",
   "pygments_lexer": "ipython3",
   "version": "3.6.6"
  }
 },
 "nbformat": 4,
 "nbformat_minor": 2
}
