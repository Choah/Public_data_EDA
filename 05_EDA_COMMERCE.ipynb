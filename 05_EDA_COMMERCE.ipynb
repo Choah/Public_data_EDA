{
 "cells": [
  {
   "cell_type": "markdown",
   "metadata": {},
   "source": [
    "# 부동산 데이터 탐색\n",
    "* 상업/업무용"
   ]
  },
  {
   "cell_type": "code",
   "execution_count": 2,
   "metadata": {},
   "outputs": [],
   "source": [
    "import numpy as np\n",
    "import pandas as pd\n",
    "import os\n",
    "import glob\n",
    "import plotly"
   ]
  },
  {
   "cell_type": "code",
   "execution_count": 6,
   "metadata": {},
   "outputs": [],
   "source": [
    "path = \"Dataset/COMMERCE\"\n",
    "allFiles = glob.glob(os.path.join(path,\"*.csv\"))"
   ]
  },
  {
   "cell_type": "code",
   "execution_count": 7,
   "metadata": {},
   "outputs": [
    {
     "data": {
      "text/plain": [
       "['Dataset/COMMERCE\\\\상업업무용(매매)-실거래가-201808.csv',\n",
       " 'Dataset/COMMERCE\\\\상업업무용(매매)-실거래가-201809.csv',\n",
       " 'Dataset/COMMERCE\\\\상업업무용(매매)_실거래가-201512.csv',\n",
       " 'Dataset/COMMERCE\\\\상업업무용(매매)_실거래가-201601.csv',\n",
       " 'Dataset/COMMERCE\\\\상업업무용(매매)_실거래가-201602.csv',\n",
       " 'Dataset/COMMERCE\\\\상업업무용(매매)_실거래가-201603.csv',\n",
       " 'Dataset/COMMERCE\\\\상업업무용(매매)_실거래가-201604.csv',\n",
       " 'Dataset/COMMERCE\\\\상업업무용(매매)_실거래가-201605.csv',\n",
       " 'Dataset/COMMERCE\\\\상업업무용(매매)_실거래가-201606.csv',\n",
       " 'Dataset/COMMERCE\\\\상업업무용(매매)_실거래가-201607.csv',\n",
       " 'Dataset/COMMERCE\\\\상업업무용(매매)_실거래가-201608.csv',\n",
       " 'Dataset/COMMERCE\\\\상업업무용(매매)_실거래가-201609.csv',\n",
       " 'Dataset/COMMERCE\\\\상업업무용(매매)_실거래가-201610.csv',\n",
       " 'Dataset/COMMERCE\\\\상업업무용(매매)_실거래가-201611.csv',\n",
       " 'Dataset/COMMERCE\\\\상업업무용(매매)_실거래가-201612.csv',\n",
       " 'Dataset/COMMERCE\\\\상업업무용(매매)_실거래가-201701.csv',\n",
       " 'Dataset/COMMERCE\\\\상업업무용(매매)_실거래가-201702.csv',\n",
       " 'Dataset/COMMERCE\\\\상업업무용(매매)_실거래가-201703.csv',\n",
       " 'Dataset/COMMERCE\\\\상업업무용(매매)_실거래가-201704.csv',\n",
       " 'Dataset/COMMERCE\\\\상업업무용(매매)_실거래가-201705.csv',\n",
       " 'Dataset/COMMERCE\\\\상업업무용(매매)_실거래가-201706.csv',\n",
       " 'Dataset/COMMERCE\\\\상업업무용(매매)_실거래가-201707.csv',\n",
       " 'Dataset/COMMERCE\\\\상업업무용(매매)_실거래가-201708.csv',\n",
       " 'Dataset/COMMERCE\\\\상업업무용(매매)_실거래가-201709.csv',\n",
       " 'Dataset/COMMERCE\\\\상업업무용(매매)_실거래가-201710.csv',\n",
       " 'Dataset/COMMERCE\\\\상업업무용(매매)_실거래가-201711.csv',\n",
       " 'Dataset/COMMERCE\\\\상업업무용(매매)_실거래가-201712.csv',\n",
       " 'Dataset/COMMERCE\\\\상업업무용(매매)_실거래가-201801.csv',\n",
       " 'Dataset/COMMERCE\\\\상업업무용(매매)_실거래가-201802.csv',\n",
       " 'Dataset/COMMERCE\\\\상업업무용(매매)_실거래가-201803.csv',\n",
       " 'Dataset/COMMERCE\\\\상업업무용(매매)_실거래가-201804.csv',\n",
       " 'Dataset/COMMERCE\\\\상업업무용(매매)_실거래가-201805.csv',\n",
       " 'Dataset/COMMERCE\\\\상업업무용(매매)_실거래가-201806.csv',\n",
       " 'Dataset/COMMERCE\\\\상업업무용(매매)_실거래가-201807.csv']"
      ]
     },
     "execution_count": 7,
     "metadata": {},
     "output_type": "execute_result"
    }
   ],
   "source": [
    "allFiles"
   ]
  },
  {
   "cell_type": "code",
   "execution_count": 9,
   "metadata": {},
   "outputs": [
    {
     "name": "stderr",
     "output_type": "stream",
     "text": [
      "C:\\Anaconda3\\envs\\public_data_eda\\lib\\site-packages\\ipykernel_launcher.py:4: FutureWarning:\n",
      "\n",
      "Method .as_matrix will be removed in a future version. Use .values instead.\n",
      "\n"
     ]
    }
   ],
   "source": [
    "np_array_list = []\n",
    "for file_ in allFiles:\n",
    "    df = pd.read_csv(file_,index_col=None,skiprows = 15, engine='python')\n",
    "    np_array_list.append(df.as_matrix())\n",
    "\n",
    "comb_np_array = np.vstack(np_array_list)\n",
    "dataset = pd.DataFrame(comb_np_array)\n",
    "dataset.columns = df.columns"
   ]
  },
  {
   "cell_type": "code",
   "execution_count": 10,
   "metadata": {},
   "outputs": [
    {
     "data": {
      "text/plain": [
       "Index(['시군구', '유형', '지번', '도로명', '용도지역', '건축물주용도', '도로조건', '전용/연면적(㎡)',\n",
       "       '대지면적(㎡)', '거래금액(만원)', '층', '계약년월', '계약일', '지분구분', '건축년도'],\n",
       "      dtype='object')"
      ]
     },
     "execution_count": 10,
     "metadata": {},
     "output_type": "execute_result"
    }
   ],
   "source": [
    "dataset.columns"
   ]
  },
  {
   "cell_type": "code",
   "execution_count": 11,
   "metadata": {},
   "outputs": [],
   "source": [
    "dataset.columns = [\"add_1\", \"type\", \"add_2\",\"road_name\", \n",
    "                   \"use_district\", \"building_use\", \"road_condition\", \n",
    "                   \"GFA\", \"land_area\", \"price\", \"floor\", \n",
    "                   \"year_month\", \"day\", \"shares\",\n",
    "                   \"built_year\"]"
   ]
  },
  {
   "cell_type": "code",
   "execution_count": 12,
   "metadata": {},
   "outputs": [
    {
     "data": {
      "text/plain": [
       "(257739, 15)"
      ]
     },
     "execution_count": 12,
     "metadata": {},
     "output_type": "execute_result"
    }
   ],
   "source": [
    "dataset.shape # 관측치 : 257739, 항목 : 15"
   ]
  },
  {
   "cell_type": "code",
   "execution_count": 13,
   "metadata": {},
   "outputs": [
    {
     "data": {
      "text/html": [
       "<div>\n",
       "<style scoped>\n",
       "    .dataframe tbody tr th:only-of-type {\n",
       "        vertical-align: middle;\n",
       "    }\n",
       "\n",
       "    .dataframe tbody tr th {\n",
       "        vertical-align: top;\n",
       "    }\n",
       "\n",
       "    .dataframe thead th {\n",
       "        text-align: right;\n",
       "    }\n",
       "</style>\n",
       "<table border=\"1\" class=\"dataframe\">\n",
       "  <thead>\n",
       "    <tr style=\"text-align: right;\">\n",
       "      <th></th>\n",
       "      <th>add_1</th>\n",
       "      <th>type</th>\n",
       "      <th>add_2</th>\n",
       "      <th>road_name</th>\n",
       "      <th>use_district</th>\n",
       "      <th>building_use</th>\n",
       "      <th>road_condition</th>\n",
       "      <th>GFA</th>\n",
       "      <th>land_area</th>\n",
       "      <th>price</th>\n",
       "      <th>floor</th>\n",
       "      <th>year_month</th>\n",
       "      <th>day</th>\n",
       "      <th>shares</th>\n",
       "      <th>built_year</th>\n",
       "    </tr>\n",
       "  </thead>\n",
       "  <tbody>\n",
       "    <tr>\n",
       "      <th>0</th>\n",
       "      <td>강원도 강릉시 교동</td>\n",
       "      <td>일반</td>\n",
       "      <td>9**</td>\n",
       "      <td>화부산로</td>\n",
       "      <td>제2종일반주거</td>\n",
       "      <td>제2종근린생활</td>\n",
       "      <td>25m미만</td>\n",
       "      <td>596.76</td>\n",
       "      <td>307.40</td>\n",
       "      <td>60,000</td>\n",
       "      <td>NaN</td>\n",
       "      <td>201808</td>\n",
       "      <td>11~20</td>\n",
       "      <td></td>\n",
       "      <td>1989</td>\n",
       "    </tr>\n",
       "    <tr>\n",
       "      <th>1</th>\n",
       "      <td>강원도 강릉시 교동</td>\n",
       "      <td>일반</td>\n",
       "      <td>1***</td>\n",
       "      <td>솔올로5번길</td>\n",
       "      <td>일반상업</td>\n",
       "      <td>제2종근린생활</td>\n",
       "      <td>12m미만</td>\n",
       "      <td>2524.75</td>\n",
       "      <td>590.80</td>\n",
       "      <td>350,000</td>\n",
       "      <td>NaN</td>\n",
       "      <td>201808</td>\n",
       "      <td>1~10</td>\n",
       "      <td></td>\n",
       "      <td>2003</td>\n",
       "    </tr>\n",
       "    <tr>\n",
       "      <th>2</th>\n",
       "      <td>강원도 강릉시 교동</td>\n",
       "      <td>일반</td>\n",
       "      <td>2**</td>\n",
       "      <td>율곡로2874번길</td>\n",
       "      <td>일반상업</td>\n",
       "      <td>숙박</td>\n",
       "      <td>12m미만</td>\n",
       "      <td>226.56</td>\n",
       "      <td>126.00</td>\n",
       "      <td>22,000</td>\n",
       "      <td>NaN</td>\n",
       "      <td>201808</td>\n",
       "      <td>21~31</td>\n",
       "      <td></td>\n",
       "      <td>1983</td>\n",
       "    </tr>\n",
       "    <tr>\n",
       "      <th>3</th>\n",
       "      <td>강원도 강릉시 구정면 여찬리</td>\n",
       "      <td>일반</td>\n",
       "      <td>5**</td>\n",
       "      <td>말미길</td>\n",
       "      <td>계획관리</td>\n",
       "      <td>제2종근린생활</td>\n",
       "      <td>8m미만</td>\n",
       "      <td>20.64</td>\n",
       "      <td>84.00</td>\n",
       "      <td>2,000</td>\n",
       "      <td>NaN</td>\n",
       "      <td>201808</td>\n",
       "      <td>11~20</td>\n",
       "      <td></td>\n",
       "      <td>2015</td>\n",
       "    </tr>\n",
       "    <tr>\n",
       "      <th>4</th>\n",
       "      <td>강원도 강릉시 노암동</td>\n",
       "      <td>일반</td>\n",
       "      <td>5**</td>\n",
       "      <td>남부로136번길</td>\n",
       "      <td>자연녹지</td>\n",
       "      <td>제2종근린생활</td>\n",
       "      <td>8m미만</td>\n",
       "      <td>177.96</td>\n",
       "      <td>900.00</td>\n",
       "      <td>19,600</td>\n",
       "      <td>NaN</td>\n",
       "      <td>201808</td>\n",
       "      <td>11~20</td>\n",
       "      <td></td>\n",
       "      <td>2002</td>\n",
       "    </tr>\n",
       "  </tbody>\n",
       "</table>\n",
       "</div>"
      ],
      "text/plain": [
       "             add_1 type add_2  road_name use_district building_use  \\\n",
       "0       강원도 강릉시 교동   일반   9**       화부산로      제2종일반주거      제2종근린생활   \n",
       "1       강원도 강릉시 교동   일반  1***     솔올로5번길         일반상업      제2종근린생활   \n",
       "2       강원도 강릉시 교동   일반   2**  율곡로2874번길         일반상업           숙박   \n",
       "3  강원도 강릉시 구정면 여찬리   일반   5**        말미길         계획관리      제2종근린생활   \n",
       "4      강원도 강릉시 노암동   일반   5**   남부로136번길         자연녹지      제2종근린생활   \n",
       "\n",
       "  road_condition      GFA land_area    price floor year_month    day shares  \\\n",
       "0          25m미만   596.76    307.40   60,000   NaN     201808  11~20          \n",
       "1          12m미만  2524.75    590.80  350,000   NaN     201808   1~10          \n",
       "2          12m미만   226.56    126.00   22,000   NaN     201808  21~31          \n",
       "3           8m미만    20.64     84.00    2,000   NaN     201808  11~20          \n",
       "4           8m미만   177.96    900.00   19,600   NaN     201808  11~20          \n",
       "\n",
       "  built_year  \n",
       "0       1989  \n",
       "1       2003  \n",
       "2       1983  \n",
       "3       2015  \n",
       "4       2002  "
      ]
     },
     "execution_count": 13,
     "metadata": {},
     "output_type": "execute_result"
    }
   ],
   "source": [
    "dataset.head()"
   ]
  },
  {
   "cell_type": "code",
   "execution_count": 14,
   "metadata": {},
   "outputs": [
    {
     "data": {
      "text/html": [
       "<div>\n",
       "<style scoped>\n",
       "    .dataframe tbody tr th:only-of-type {\n",
       "        vertical-align: middle;\n",
       "    }\n",
       "\n",
       "    .dataframe tbody tr th {\n",
       "        vertical-align: top;\n",
       "    }\n",
       "\n",
       "    .dataframe thead th {\n",
       "        text-align: right;\n",
       "    }\n",
       "</style>\n",
       "<table border=\"1\" class=\"dataframe\">\n",
       "  <thead>\n",
       "    <tr style=\"text-align: right;\">\n",
       "      <th></th>\n",
       "      <th>add_1</th>\n",
       "      <th>type</th>\n",
       "      <th>add_2</th>\n",
       "      <th>road_name</th>\n",
       "      <th>use_district</th>\n",
       "      <th>building_use</th>\n",
       "      <th>road_condition</th>\n",
       "      <th>GFA</th>\n",
       "      <th>land_area</th>\n",
       "      <th>price</th>\n",
       "      <th>floor</th>\n",
       "      <th>year_month</th>\n",
       "      <th>day</th>\n",
       "      <th>shares</th>\n",
       "      <th>built_year</th>\n",
       "    </tr>\n",
       "  </thead>\n",
       "  <tbody>\n",
       "    <tr>\n",
       "      <th>257734</th>\n",
       "      <td>충청북도 충주시 용산동</td>\n",
       "      <td>일반</td>\n",
       "      <td>2**</td>\n",
       "      <td>용산로</td>\n",
       "      <td>제2종일반주거</td>\n",
       "      <td>제1종근린생활</td>\n",
       "      <td>25m미만</td>\n",
       "      <td>122.32</td>\n",
       "      <td>126.00</td>\n",
       "      <td>17,000</td>\n",
       "      <td>NaN</td>\n",
       "      <td>201807</td>\n",
       "      <td>11~20</td>\n",
       "      <td></td>\n",
       "      <td>1974</td>\n",
       "    </tr>\n",
       "    <tr>\n",
       "      <th>257735</th>\n",
       "      <td>충청북도 충주시 용산동</td>\n",
       "      <td>일반</td>\n",
       "      <td>1***</td>\n",
       "      <td>남산1길</td>\n",
       "      <td>자연녹지</td>\n",
       "      <td>제2종근린생활</td>\n",
       "      <td>8m미만</td>\n",
       "      <td>22.44</td>\n",
       "      <td>274.33</td>\n",
       "      <td>3,300</td>\n",
       "      <td>NaN</td>\n",
       "      <td>201807</td>\n",
       "      <td>21~31</td>\n",
       "      <td></td>\n",
       "      <td>1991</td>\n",
       "    </tr>\n",
       "    <tr>\n",
       "      <th>257736</th>\n",
       "      <td>충청북도 충주시 주덕읍 신양리</td>\n",
       "      <td>일반</td>\n",
       "      <td>2**</td>\n",
       "      <td>시장길</td>\n",
       "      <td>일반상업</td>\n",
       "      <td>제2종근린생활</td>\n",
       "      <td>12m미만</td>\n",
       "      <td>151.47</td>\n",
       "      <td>107.00</td>\n",
       "      <td>13,000</td>\n",
       "      <td>NaN</td>\n",
       "      <td>201807</td>\n",
       "      <td>11~20</td>\n",
       "      <td></td>\n",
       "      <td>1988</td>\n",
       "    </tr>\n",
       "    <tr>\n",
       "      <th>257737</th>\n",
       "      <td>충청북도 충주시 충의동</td>\n",
       "      <td>일반</td>\n",
       "      <td>2*</td>\n",
       "      <td>충인8길</td>\n",
       "      <td>일반상업</td>\n",
       "      <td>제1종근린생활</td>\n",
       "      <td>8m미만</td>\n",
       "      <td>430.61</td>\n",
       "      <td>268.00</td>\n",
       "      <td>20,000</td>\n",
       "      <td>NaN</td>\n",
       "      <td>201807</td>\n",
       "      <td>21~31</td>\n",
       "      <td></td>\n",
       "      <td>1980</td>\n",
       "    </tr>\n",
       "    <tr>\n",
       "      <th>257738</th>\n",
       "      <td>충청북도 충주시 칠금동</td>\n",
       "      <td>일반</td>\n",
       "      <td>8**</td>\n",
       "      <td>계명대로</td>\n",
       "      <td>준주거</td>\n",
       "      <td>제1종근린생활</td>\n",
       "      <td>25m이상</td>\n",
       "      <td>1376.1</td>\n",
       "      <td>313.10</td>\n",
       "      <td>247,000</td>\n",
       "      <td>NaN</td>\n",
       "      <td>201807</td>\n",
       "      <td>11~20</td>\n",
       "      <td></td>\n",
       "      <td>2008</td>\n",
       "    </tr>\n",
       "  </tbody>\n",
       "</table>\n",
       "</div>"
      ],
      "text/plain": [
       "                   add_1 type add_2 road_name use_district building_use  \\\n",
       "257734      충청북도 충주시 용산동   일반   2**       용산로      제2종일반주거      제1종근린생활   \n",
       "257735      충청북도 충주시 용산동   일반  1***      남산1길         자연녹지      제2종근린생활   \n",
       "257736  충청북도 충주시 주덕읍 신양리   일반   2**       시장길         일반상업      제2종근린생활   \n",
       "257737      충청북도 충주시 충의동   일반    2*      충인8길         일반상업      제1종근린생활   \n",
       "257738      충청북도 충주시 칠금동   일반   8**      계명대로          준주거      제1종근린생활   \n",
       "\n",
       "       road_condition     GFA land_area    price floor year_month    day  \\\n",
       "257734          25m미만  122.32    126.00   17,000   NaN     201807  11~20   \n",
       "257735           8m미만   22.44    274.33    3,300   NaN     201807  21~31   \n",
       "257736          12m미만  151.47    107.00   13,000   NaN     201807  11~20   \n",
       "257737           8m미만  430.61    268.00   20,000   NaN     201807  21~31   \n",
       "257738          25m이상  1376.1    313.10  247,000   NaN     201807  11~20   \n",
       "\n",
       "       shares built_year  \n",
       "257734              1974  \n",
       "257735              1991  \n",
       "257736              1988  \n",
       "257737              1980  \n",
       "257738              2008  "
      ]
     },
     "execution_count": 14,
     "metadata": {},
     "output_type": "execute_result"
    }
   ],
   "source": [
    "dataset.tail()"
   ]
  },
  {
   "cell_type": "code",
   "execution_count": null,
   "metadata": {},
   "outputs": [],
   "source": []
  },
  {
   "cell_type": "code",
   "execution_count": null,
   "metadata": {},
   "outputs": [],
   "source": []
  },
  {
   "cell_type": "code",
   "execution_count": null,
   "metadata": {},
   "outputs": [],
   "source": []
  },
  {
   "cell_type": "code",
   "execution_count": null,
   "metadata": {},
   "outputs": [],
   "source": []
  },
  {
   "cell_type": "code",
   "execution_count": null,
   "metadata": {},
   "outputs": [],
   "source": []
  }
 ],
 "metadata": {
  "kernelspec": {
   "display_name": "Python 3",
   "language": "python",
   "name": "python3"
  },
  "language_info": {
   "codemirror_mode": {
    "name": "ipython",
    "version": 3
   },
   "file_extension": ".py",
   "mimetype": "text/x-python",
   "name": "python",
   "nbconvert_exporter": "python",
   "pygments_lexer": "ipython3",
   "version": "3.6.6"
  }
 },
 "nbformat": 4,
 "nbformat_minor": 2
}
